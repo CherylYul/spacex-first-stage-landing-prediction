{
 "cells": [
  {
   "cell_type": "code",
   "execution_count": 35,
   "metadata": {},
   "outputs": [],
   "source": [
    "import pandas as pd\n",
    "import csv, sqlite3"
   ]
  },
  {
   "cell_type": "code",
   "execution_count": 36,
   "metadata": {},
   "outputs": [
    {
     "data": {
      "text/html": [
       "<div>\n",
       "<style scoped>\n",
       "    .dataframe tbody tr th:only-of-type {\n",
       "        vertical-align: middle;\n",
       "    }\n",
       "\n",
       "    .dataframe tbody tr th {\n",
       "        vertical-align: top;\n",
       "    }\n",
       "\n",
       "    .dataframe thead th {\n",
       "        text-align: right;\n",
       "    }\n",
       "</style>\n",
       "<table border=\"1\" class=\"dataframe\">\n",
       "  <thead>\n",
       "    <tr style=\"text-align: right;\">\n",
       "      <th></th>\n",
       "      <th>FlightNo.</th>\n",
       "      <th>Dateandtime(UTC)</th>\n",
       "      <th>Launchsite</th>\n",
       "      <th>Payloadmass</th>\n",
       "      <th>Orbit</th>\n",
       "      <th>Customer</th>\n",
       "      <th>Launchoutcome</th>\n",
       "      <th>Boosterlanding</th>\n",
       "      <th>BoosterVersion</th>\n",
       "      <th>Serial</th>\n",
       "    </tr>\n",
       "  </thead>\n",
       "  <tbody>\n",
       "    <tr>\n",
       "      <th>0</th>\n",
       "      <td>1</td>\n",
       "      <td>2010-06-04</td>\n",
       "      <td>CCSFS SLC-40</td>\n",
       "      <td>8933.290816</td>\n",
       "      <td>LEO</td>\n",
       "      <td>SpaceX</td>\n",
       "      <td>Success</td>\n",
       "      <td>Failure(parachute)</td>\n",
       "      <td>F9 v1.0</td>\n",
       "      <td>B0003</td>\n",
       "    </tr>\n",
       "    <tr>\n",
       "      <th>1</th>\n",
       "      <td>2</td>\n",
       "      <td>2010-12-08</td>\n",
       "      <td>CCSFS SLC-40</td>\n",
       "      <td>8933.290816</td>\n",
       "      <td>LEO</td>\n",
       "      <td>NASA(COTS)</td>\n",
       "      <td>Success</td>\n",
       "      <td>Failure(parachute)</td>\n",
       "      <td>F9 v1.0</td>\n",
       "      <td>B0004</td>\n",
       "    </tr>\n",
       "    <tr>\n",
       "      <th>2</th>\n",
       "      <td>3</td>\n",
       "      <td>2012-05-22</td>\n",
       "      <td>CCSFS SLC-40</td>\n",
       "      <td>525.000000</td>\n",
       "      <td>LEO</td>\n",
       "      <td>NASA(COTS)</td>\n",
       "      <td>Success</td>\n",
       "      <td>No attempt</td>\n",
       "      <td>F9 v1.0</td>\n",
       "      <td>B0005</td>\n",
       "    </tr>\n",
       "    <tr>\n",
       "      <th>3</th>\n",
       "      <td>4</td>\n",
       "      <td>2012-10-08</td>\n",
       "      <td>CCSFS SLC-40</td>\n",
       "      <td>4700.000000</td>\n",
       "      <td>LEO</td>\n",
       "      <td>NASA(CRS)</td>\n",
       "      <td>Success</td>\n",
       "      <td>No attempt</td>\n",
       "      <td>F9 v1.0</td>\n",
       "      <td>B0006</td>\n",
       "    </tr>\n",
       "    <tr>\n",
       "      <th>4</th>\n",
       "      <td>5</td>\n",
       "      <td>2013-03-01</td>\n",
       "      <td>CCSFS SLC-40</td>\n",
       "      <td>4877.000000</td>\n",
       "      <td>LEO</td>\n",
       "      <td>NASA(CRS)</td>\n",
       "      <td>Success</td>\n",
       "      <td>No attempt</td>\n",
       "      <td>F9 v1.0</td>\n",
       "      <td>B0007</td>\n",
       "    </tr>\n",
       "  </tbody>\n",
       "</table>\n",
       "</div>"
      ],
      "text/plain": [
       "   FlightNo. Dateandtime(UTC)    Launchsite  Payloadmass Orbit    Customer  \\\n",
       "0          1       2010-06-04  CCSFS SLC-40  8933.290816   LEO      SpaceX   \n",
       "1          2       2010-12-08  CCSFS SLC-40  8933.290816   LEO  NASA(COTS)   \n",
       "2          3       2012-05-22  CCSFS SLC-40   525.000000   LEO  NASA(COTS)   \n",
       "3          4       2012-10-08  CCSFS SLC-40  4700.000000   LEO   NASA(CRS)   \n",
       "4          5       2013-03-01  CCSFS SLC-40  4877.000000   LEO   NASA(CRS)   \n",
       "\n",
       "  Launchoutcome      Boosterlanding BoosterVersion Serial  \n",
       "0       Success  Failure(parachute)        F9 v1.0  B0003  \n",
       "1       Success  Failure(parachute)        F9 v1.0  B0004  \n",
       "2       Success          No attempt        F9 v1.0  B0005  \n",
       "3       Success          No attempt        F9 v1.0  B0006  \n",
       "4       Success          No attempt        F9 v1.0  B0007  "
      ]
     },
     "execution_count": 36,
     "metadata": {},
     "output_type": "execute_result"
    }
   ],
   "source": [
    "df = pd.read_csv(\"../cleaning-data/web-cleaned-data.csv\")\n",
    "df.head()"
   ]
  },
  {
   "cell_type": "code",
   "execution_count": 37,
   "metadata": {},
   "outputs": [],
   "source": [
    "conn = sqlite3.connect('SpaceX.db')\n",
    "df.to_sql(\"SPACEXLAUNCH\", conn, if_exists=\"replace\", index=False)\n",
    "conn.commit()\n",
    "conn.close()"
   ]
  },
  {
   "cell_type": "code",
   "execution_count": 38,
   "metadata": {},
   "outputs": [
    {
     "name": "stdout",
     "output_type": "stream",
     "text": [
      "The sql extension is already loaded. To reload it, use:\n",
      "  %reload_ext sql\n"
     ]
    }
   ],
   "source": [
    "%load_ext sql\n",
    "conn = sqlite3.connect('SpaceX.db')\n",
    "cur = conn.cursor()\n",
    "%sql sqlite:///SpaceX.db"
   ]
  },
  {
   "attachments": {},
   "cell_type": "markdown",
   "metadata": {},
   "source": [
    "1. Display number of unique launch site"
   ]
  },
  {
   "cell_type": "code",
   "execution_count": 39,
   "metadata": {},
   "outputs": [
    {
     "name": "stdout",
     "output_type": "stream",
     "text": [
      " * sqlite:///SpaceX.db\n",
      "Done.\n"
     ]
    },
    {
     "data": {
      "text/html": [
       "<table>\n",
       "    <thead>\n",
       "        <tr>\n",
       "            <th>Launchsite</th>\n",
       "            <th>LaunchTotal</th>\n",
       "        </tr>\n",
       "    </thead>\n",
       "    <tbody>\n",
       "        <tr>\n",
       "            <td>CCSFS SLC-40</td>\n",
       "            <td>115</td>\n",
       "        </tr>\n",
       "        <tr>\n",
       "            <td>KSC LC-39A</td>\n",
       "            <td>57</td>\n",
       "        </tr>\n",
       "        <tr>\n",
       "            <td>VSFB SLC-4E</td>\n",
       "            <td>36</td>\n",
       "        </tr>\n",
       "    </tbody>\n",
       "</table>"
      ],
      "text/plain": [
       "[('CCSFS SLC-40', 115), ('KSC LC-39A', 57), ('VSFB SLC-4E', 36)]"
      ]
     },
     "execution_count": 39,
     "metadata": {},
     "output_type": "execute_result"
    }
   ],
   "source": [
    "%%sql \n",
    "select Launchsite, count(\"FlightNo.\") as LaunchTotal\n",
    "from spacexlaunch\n",
    "group by Launchsite"
   ]
  },
  {
   "attachments": {},
   "cell_type": "markdown",
   "metadata": {},
   "source": [
    "2. Display total payload mass, average per launch carried by boosters launched by NASA"
   ]
  },
  {
   "cell_type": "code",
   "execution_count": 48,
   "metadata": {},
   "outputs": [
    {
     "name": "stdout",
     "output_type": "stream",
     "text": [
      " * sqlite:///SpaceX.db\n",
      "Done.\n"
     ]
    },
    {
     "data": {
      "text/html": [
       "<table>\n",
       "    <thead>\n",
       "        <tr>\n",
       "            <th>Customer</th>\n",
       "            <th>TotalPayloadMass</th>\n",
       "            <th>LaunchTotal</th>\n",
       "            <th>AveragePerLaunch</th>\n",
       "        </tr>\n",
       "    </thead>\n",
       "    <tbody>\n",
       "        <tr>\n",
       "            <td>NASA(CTS)</td>\n",
       "            <td>77050.0</td>\n",
       "            <td>6</td>\n",
       "            <td>12841.666666666666</td>\n",
       "        </tr>\n",
       "        <tr>\n",
       "            <td>NASA(CRS)</td>\n",
       "            <td>71326.0</td>\n",
       "            <td>26</td>\n",
       "            <td>2743.3076923076924</td>\n",
       "        </tr>\n",
       "        <tr>\n",
       "            <td>NASA(CCDev)</td>\n",
       "            <td>12530.0</td>\n",
       "            <td>1</td>\n",
       "            <td>12530.0</td>\n",
       "        </tr>\n",
       "        <tr>\n",
       "            <td>NASA(CCP)</td>\n",
       "            <td>12500.0</td>\n",
       "            <td>1</td>\n",
       "            <td>12500.0</td>\n",
       "        </tr>\n",
       "        <tr>\n",
       "            <td>NASA(CCD)</td>\n",
       "            <td>12055.0</td>\n",
       "            <td>1</td>\n",
       "            <td>12055.0</td>\n",
       "        </tr>\n",
       "        <tr>\n",
       "            <td>NASA(COTS)</td>\n",
       "            <td>9458.290816326531</td>\n",
       "            <td>2</td>\n",
       "            <td>4729.1454081632655</td>\n",
       "        </tr>\n",
       "        <tr>\n",
       "            <td>Iridium Communications/GFZ/NASA</td>\n",
       "            <td>6460.0</td>\n",
       "            <td>1</td>\n",
       "            <td>6460.0</td>\n",
       "        </tr>\n",
       "        <tr>\n",
       "            <td>NASA/CNES</td>\n",
       "            <td>2200.0</td>\n",
       "            <td>1</td>\n",
       "            <td>2200.0</td>\n",
       "        </tr>\n",
       "        <tr>\n",
       "            <td>NASA(LSP)</td>\n",
       "            <td>1311.0</td>\n",
       "            <td>3</td>\n",
       "            <td>437.0</td>\n",
       "        </tr>\n",
       "        <tr>\n",
       "            <td>NASA/NOAA/ESA/EUMETSAT</td>\n",
       "            <td>1192.0</td>\n",
       "            <td>1</td>\n",
       "            <td>1192.0</td>\n",
       "        </tr>\n",
       "        <tr>\n",
       "            <td>ispace/MBRSC/JAXA/NASA</td>\n",
       "            <td>1000.0</td>\n",
       "            <td>1</td>\n",
       "            <td>1000.0</td>\n",
       "        </tr>\n",
       "        <tr>\n",
       "            <td>USAF/NASA/NOAA</td>\n",
       "            <td>570.0</td>\n",
       "            <td>1</td>\n",
       "            <td>570.0</td>\n",
       "        </tr>\n",
       "        <tr>\n",
       "            <td>NASA/NOAA/CNES</td>\n",
       "            <td>553.0</td>\n",
       "            <td>1</td>\n",
       "            <td>553.0</td>\n",
       "        </tr>\n",
       "    </tbody>\n",
       "</table>"
      ],
      "text/plain": [
       "[('NASA(CTS)', 77050.0, 6, 12841.666666666666),\n",
       " ('NASA(CRS)', 71326.0, 26, 2743.3076923076924),\n",
       " ('NASA(CCDev)', 12530.0, 1, 12530.0),\n",
       " ('NASA(CCP)', 12500.0, 1, 12500.0),\n",
       " ('NASA(CCD)', 12055.0, 1, 12055.0),\n",
       " ('NASA(COTS)', 9458.290816326531, 2, 4729.1454081632655),\n",
       " ('Iridium Communications/GFZ/NASA', 6460.0, 1, 6460.0),\n",
       " ('NASA/CNES', 2200.0, 1, 2200.0),\n",
       " ('NASA(LSP)', 1311.0, 3, 437.0),\n",
       " ('NASA/NOAA/ESA/EUMETSAT', 1192.0, 1, 1192.0),\n",
       " ('ispace/MBRSC/JAXA/NASA', 1000.0, 1, 1000.0),\n",
       " ('USAF/NASA/NOAA', 570.0, 1, 570.0),\n",
       " ('NASA/NOAA/CNES', 553.0, 1, 553.0)]"
      ]
     },
     "execution_count": 48,
     "metadata": {},
     "output_type": "execute_result"
    }
   ],
   "source": [
    "%%sql \n",
    "select customer, sum(payloadmass) as TotalPayloadMass, count(customer) as LaunchTotal, avg(payloadmass) as AveragePerLaunch\n",
    "from spacexlaunch\n",
    "where customer like '%NASA%'\n",
    "group by customer\n",
    "order by TotalPayloadMass desc"
   ]
  },
  {
   "attachments": {},
   "cell_type": "markdown",
   "metadata": {},
   "source": [
    "3. How many booster does SpaceX have? Which booster has the highest average payload?"
   ]
  },
  {
   "cell_type": "code",
   "execution_count": 55,
   "metadata": {},
   "outputs": [
    {
     "name": "stdout",
     "output_type": "stream",
     "text": [
      " * sqlite:///SpaceX.db\n",
      "Done.\n"
     ]
    },
    {
     "data": {
      "text/html": [
       "<table>\n",
       "    <thead>\n",
       "        <tr>\n",
       "            <th>BoosterVersion</th>\n",
       "            <th>TotalPayloadMass</th>\n",
       "            <th>AveragePayloadMass</th>\n",
       "            <th>LaunchTotal</th>\n",
       "        </tr>\n",
       "    </thead>\n",
       "    <tbody>\n",
       "        <tr>\n",
       "            <td>F9 B5</td>\n",
       "            <td>1615075.3265306123</td>\n",
       "            <td>10625.495569280343</td>\n",
       "            <td>152</td>\n",
       "        </tr>\n",
       "        <tr>\n",
       "            <td>F9 v1.0</td>\n",
       "            <td>27968.581632653062</td>\n",
       "            <td>5593.716326530613</td>\n",
       "            <td>5</td>\n",
       "        </tr>\n",
       "        <tr>\n",
       "            <td>F9 B4</td>\n",
       "            <td>63575.29081632653</td>\n",
       "            <td>5297.940901360545</td>\n",
       "            <td>12</td>\n",
       "        </tr>\n",
       "        <tr>\n",
       "            <td>F9 FT</td>\n",
       "            <td>113485.29081632654</td>\n",
       "            <td>4728.553784013606</td>\n",
       "            <td>24</td>\n",
       "        </tr>\n",
       "        <tr>\n",
       "            <td>F9 v1.1</td>\n",
       "            <td>38020.0</td>\n",
       "            <td>2534.6666666666665</td>\n",
       "            <td>15</td>\n",
       "        </tr>\n",
       "    </tbody>\n",
       "</table>"
      ],
      "text/plain": [
       "[('F9 B5', 1615075.3265306123, 10625.495569280343, 152),\n",
       " ('F9 v1.0', 27968.581632653062, 5593.716326530613, 5),\n",
       " ('F9 B4', 63575.29081632653, 5297.940901360545, 12),\n",
       " ('F9 FT', 113485.29081632654, 4728.553784013606, 24),\n",
       " ('F9 v1.1', 38020.0, 2534.6666666666665, 15)]"
      ]
     },
     "execution_count": 55,
     "metadata": {},
     "output_type": "execute_result"
    }
   ],
   "source": [
    "%%sql \n",
    "select boosterversion, sum(payloadmass) as TotalPayloadMass, avg(payloadmass) as AveragePayloadMass, count(boosterversion) as LaunchTotal\n",
    "from spacexlaunch\n",
    "group by boosterversion\n",
    "order by AveragePayloadMass desc"
   ]
  },
  {
   "attachments": {},
   "cell_type": "markdown",
   "metadata": {},
   "source": [
    "4. How many type of booster landing? List the first date of success ground pad?"
   ]
  },
  {
   "cell_type": "code",
   "execution_count": 62,
   "metadata": {},
   "outputs": [
    {
     "name": "stdout",
     "output_type": "stream",
     "text": [
      " * sqlite:///SpaceX.db\n",
      "Done.\n"
     ]
    },
    {
     "data": {
      "text/html": [
       "<table>\n",
       "    <thead>\n",
       "        <tr>\n",
       "            <th>Boosterlanding</th>\n",
       "            <th>FirstSuccessDate</th>\n",
       "        </tr>\n",
       "    </thead>\n",
       "    <tbody>\n",
       "        <tr>\n",
       "            <td>Success(ground pad)</td>\n",
       "            <td>2015-12-22</td>\n",
       "        </tr>\n",
       "    </tbody>\n",
       "</table>"
      ],
      "text/plain": [
       "[('Success(ground pad)', '2015-12-22')]"
      ]
     },
     "execution_count": 62,
     "metadata": {},
     "output_type": "execute_result"
    }
   ],
   "source": [
    "%%sql\n",
    "select boosterlanding, min(\"Dateandtime(UTC)\") as FirstSuccessDate\n",
    "from spacexlaunch\n",
    "where boosterlanding = \"Success(ground pad)\""
   ]
  },
  {
   "attachments": {},
   "cell_type": "markdown",
   "metadata": {},
   "source": [
    "5. Which type of booster landing has highest success rate?\n",
    "\n",
    "* A controlled ocean landing means the ocean test controlled descent, for the sole purpose of gathering test data, such boosters were destroyed at sea. Controlled means success test, soft vertical ocean touchdown. Uncontrolled means failure test, ocean touchdown control failed.\n",
    "\n",
    "* Drone ship: land on a drone ship at sea\n",
    "\n",
    "* Ground pad: land on a ground pad near the launch site\n",
    "\n",
    "* Failure parachute: attempt to recover the first stage by parachuting it into the ocean but fail"
   ]
  },
  {
   "cell_type": "code",
   "execution_count": 73,
   "metadata": {},
   "outputs": [
    {
     "name": "stdout",
     "output_type": "stream",
     "text": [
      " * sqlite:///SpaceX.db\n",
      "Done.\n"
     ]
    },
    {
     "data": {
      "text/html": [
       "<table>\n",
       "    <thead>\n",
       "        <tr>\n",
       "            <th>Boosterlanding</th>\n",
       "            <th>LaunchTotal</th>\n",
       "        </tr>\n",
       "    </thead>\n",
       "    <tbody>\n",
       "        <tr>\n",
       "            <td>Controlled(ocean)</td>\n",
       "            <td>5</td>\n",
       "        </tr>\n",
       "        <tr>\n",
       "            <td>Failure(drone ship)</td>\n",
       "            <td>8</td>\n",
       "        </tr>\n",
       "        <tr>\n",
       "            <td>Failure(ground pad)</td>\n",
       "            <td>1</td>\n",
       "        </tr>\n",
       "        <tr>\n",
       "            <td>Failure(parachute)</td>\n",
       "            <td>2</td>\n",
       "        </tr>\n",
       "        <tr>\n",
       "            <td>No attempt</td>\n",
       "            <td>24</td>\n",
       "        </tr>\n",
       "        <tr>\n",
       "            <td>Precluded(drone ship)</td>\n",
       "            <td>1</td>\n",
       "        </tr>\n",
       "        <tr>\n",
       "            <td>Success(drone ship)</td>\n",
       "            <td>136</td>\n",
       "        </tr>\n",
       "        <tr>\n",
       "            <td>Success(ground pad)</td>\n",
       "            <td>29</td>\n",
       "        </tr>\n",
       "        <tr>\n",
       "            <td>Uncontrolled(ocean)</td>\n",
       "            <td>2</td>\n",
       "        </tr>\n",
       "    </tbody>\n",
       "</table>"
      ],
      "text/plain": [
       "[('Controlled(ocean)', 5),\n",
       " ('Failure(drone ship)', 8),\n",
       " ('Failure(ground pad)', 1),\n",
       " ('Failure(parachute)', 2),\n",
       " ('No attempt', 24),\n",
       " ('Precluded(drone ship)', 1),\n",
       " ('Success(drone ship)', 136),\n",
       " ('Success(ground pad)', 29),\n",
       " ('Uncontrolled(ocean)', 2)]"
      ]
     },
     "execution_count": 73,
     "metadata": {},
     "output_type": "execute_result"
    }
   ],
   "source": [
    "%%sql\n",
    "select boosterlanding, count(boosterlanding) as LaunchTotal\n",
    "from spacexlaunch\n",
    "group by boosterlanding"
   ]
  },
  {
   "cell_type": "code",
   "execution_count": 74,
   "metadata": {},
   "outputs": [
    {
     "name": "stdout",
     "output_type": "stream",
     "text": [
      " * sqlite:///SpaceX.db\n",
      "Done.\n"
     ]
    },
    {
     "data": {
      "text/html": [
       "<table>\n",
       "    <thead>\n",
       "        <tr>\n",
       "            <th>TotalSuccess</th>\n",
       "        </tr>\n",
       "    </thead>\n",
       "    <tbody>\n",
       "        <tr>\n",
       "            <td>170</td>\n",
       "        </tr>\n",
       "    </tbody>\n",
       "</table>"
      ],
      "text/plain": [
       "[(170,)]"
      ]
     },
     "execution_count": 74,
     "metadata": {},
     "output_type": "execute_result"
    }
   ],
   "source": [
    "%%sql\n",
    "select count(Boosterlanding) as TotalSuccess\n",
    "from spacexlaunch\n",
    "where boosterlanding in ('Controlled(ocean)', 'Success(drone ship)', 'Success(ground pad)')"
   ]
  },
  {
   "cell_type": "code",
   "execution_count": 95,
   "metadata": {},
   "outputs": [
    {
     "name": "stdout",
     "output_type": "stream",
     "text": [
      " * sqlite:///SpaceX.db\n",
      "Done.\n"
     ]
    },
    {
     "data": {
      "text/html": [
       "<table>\n",
       "    <thead>\n",
       "        <tr>\n",
       "            <th>TotalFailure</th>\n",
       "        </tr>\n",
       "    </thead>\n",
       "    <tbody>\n",
       "        <tr>\n",
       "            <td>13</td>\n",
       "        </tr>\n",
       "    </tbody>\n",
       "</table>"
      ],
      "text/plain": [
       "[(13,)]"
      ]
     },
     "execution_count": 95,
     "metadata": {},
     "output_type": "execute_result"
    }
   ],
   "source": [
    "%%sql\n",
    "select count(Boosterlanding) as TotalFailure\n",
    "from spacexlaunch\n",
    "where boosterlanding in ('Failure(drone ship)', 'Failure(ground pad)', 'Failure(parachute)', 'Uncontrolled(ocean)')"
   ]
  },
  {
   "cell_type": "code",
   "execution_count": 92,
   "metadata": {},
   "outputs": [
    {
     "name": "stdout",
     "output_type": "stream",
     "text": [
      " * sqlite:///SpaceX.db\n",
      "Done.\n"
     ]
    },
    {
     "data": {
      "text/html": [
       "<table>\n",
       "    <thead>\n",
       "        <tr>\n",
       "            <th>Boosterlanding</th>\n",
       "            <th>BoosterVersion</th>\n",
       "            <th>Orbit</th>\n",
       "            <th>TotalOcean</th>\n",
       "        </tr>\n",
       "    </thead>\n",
       "    <tbody>\n",
       "        <tr>\n",
       "            <td>Controlled(ocean)</td>\n",
       "            <td>F9 FT</td>\n",
       "            <td>GTO</td>\n",
       "            <td>1</td>\n",
       "        </tr>\n",
       "        <tr>\n",
       "            <td>Controlled(ocean)</td>\n",
       "            <td>F9 FT</td>\n",
       "            <td>PO</td>\n",
       "            <td>1</td>\n",
       "        </tr>\n",
       "        <tr>\n",
       "            <td>Controlled(ocean)</td>\n",
       "            <td>F9 v1.1</td>\n",
       "            <td>ES-L1</td>\n",
       "            <td>1</td>\n",
       "        </tr>\n",
       "        <tr>\n",
       "            <td>Controlled(ocean)</td>\n",
       "            <td>F9 v1.1</td>\n",
       "            <td>LEO</td>\n",
       "            <td>2</td>\n",
       "        </tr>\n",
       "        <tr>\n",
       "            <td>Uncontrolled(ocean)</td>\n",
       "            <td>F9 v1.1</td>\n",
       "            <td>LEO</td>\n",
       "            <td>1</td>\n",
       "        </tr>\n",
       "        <tr>\n",
       "            <td>Uncontrolled(ocean)</td>\n",
       "            <td>F9 v1.1</td>\n",
       "            <td>PO</td>\n",
       "            <td>1</td>\n",
       "        </tr>\n",
       "    </tbody>\n",
       "</table>"
      ],
      "text/plain": [
       "[('Controlled(ocean)', 'F9 FT', 'GTO', 1),\n",
       " ('Controlled(ocean)', 'F9 FT', 'PO', 1),\n",
       " ('Controlled(ocean)', 'F9 v1.1', 'ES-L1', 1),\n",
       " ('Controlled(ocean)', 'F9 v1.1', 'LEO', 2),\n",
       " ('Uncontrolled(ocean)', 'F9 v1.1', 'LEO', 1),\n",
       " ('Uncontrolled(ocean)', 'F9 v1.1', 'PO', 1)]"
      ]
     },
     "execution_count": 92,
     "metadata": {},
     "output_type": "execute_result"
    }
   ],
   "source": [
    "%%sql\n",
    "select boosterlanding, boosterversion, orbit, count(Boosterlanding) as TotalOcean\n",
    "from spacexlaunch\n",
    "where boosterlanding like '%ocean%'\n",
    "group by boosterlanding, boosterversion, orbit"
   ]
  },
  {
   "cell_type": "code",
   "execution_count": 93,
   "metadata": {},
   "outputs": [
    {
     "name": "stdout",
     "output_type": "stream",
     "text": [
      " * sqlite:///SpaceX.db\n",
      "Done.\n"
     ]
    },
    {
     "data": {
      "text/html": [
       "<table>\n",
       "    <thead>\n",
       "        <tr>\n",
       "            <th>Boosterlanding</th>\n",
       "            <th>BoosterVersion</th>\n",
       "            <th>Orbit</th>\n",
       "            <th>TotalGroundPad</th>\n",
       "        </tr>\n",
       "    </thead>\n",
       "    <tbody>\n",
       "        <tr>\n",
       "            <td>Failure(ground pad)</td>\n",
       "            <td>F9 B5</td>\n",
       "            <td>LEO</td>\n",
       "            <td>1</td>\n",
       "        </tr>\n",
       "        <tr>\n",
       "            <td>Success(ground pad)</td>\n",
       "            <td>F9 B4</td>\n",
       "            <td>LEO</td>\n",
       "            <td>3</td>\n",
       "        </tr>\n",
       "        <tr>\n",
       "            <td>Success(ground pad)</td>\n",
       "            <td>F9 B5</td>\n",
       "            <td>BLT</td>\n",
       "            <td>1</td>\n",
       "        </tr>\n",
       "        <tr>\n",
       "            <td>Success(ground pad)</td>\n",
       "            <td>F9 B5</td>\n",
       "            <td>LEO</td>\n",
       "            <td>7</td>\n",
       "        </tr>\n",
       "        <tr>\n",
       "            <td>Success(ground pad)</td>\n",
       "            <td>F9 B5</td>\n",
       "            <td>PO</td>\n",
       "            <td>2</td>\n",
       "        </tr>\n",
       "        <tr>\n",
       "            <td>Success(ground pad)</td>\n",
       "            <td>F9 B5</td>\n",
       "            <td>SSO</td>\n",
       "            <td>10</td>\n",
       "        </tr>\n",
       "        <tr>\n",
       "            <td>Success(ground pad)</td>\n",
       "            <td>F9 FT</td>\n",
       "            <td>LEO</td>\n",
       "            <td>6</td>\n",
       "        </tr>\n",
       "    </tbody>\n",
       "</table>"
      ],
      "text/plain": [
       "[('Failure(ground pad)', 'F9 B5', 'LEO', 1),\n",
       " ('Success(ground pad)', 'F9 B4', 'LEO', 3),\n",
       " ('Success(ground pad)', 'F9 B5', 'BLT', 1),\n",
       " ('Success(ground pad)', 'F9 B5', 'LEO', 7),\n",
       " ('Success(ground pad)', 'F9 B5', 'PO', 2),\n",
       " ('Success(ground pad)', 'F9 B5', 'SSO', 10),\n",
       " ('Success(ground pad)', 'F9 FT', 'LEO', 6)]"
      ]
     },
     "execution_count": 93,
     "metadata": {},
     "output_type": "execute_result"
    }
   ],
   "source": [
    "%%sql\n",
    "select boosterlanding, boosterversion, orbit, count(Boosterlanding) as TotalGroundPad\n",
    "from spacexlaunch\n",
    "where boosterlanding like \"%ground%\"\n",
    "group by boosterlanding, boosterversion, orbit"
   ]
  },
  {
   "cell_type": "code",
   "execution_count": 98,
   "metadata": {},
   "outputs": [
    {
     "name": "stdout",
     "output_type": "stream",
     "text": [
      " * sqlite:///SpaceX.db\n",
      "Done.\n"
     ]
    },
    {
     "data": {
      "text/html": [
       "<table>\n",
       "    <thead>\n",
       "        <tr>\n",
       "            <th>Boosterlanding</th>\n",
       "            <th>BoosterVersion</th>\n",
       "            <th>Orbit</th>\n",
       "            <th>TotalDroneShip</th>\n",
       "        </tr>\n",
       "    </thead>\n",
       "    <tbody>\n",
       "        <tr>\n",
       "            <td>Failure(drone ship)</td>\n",
       "            <td>F9 B5</td>\n",
       "            <td>LEO</td>\n",
       "            <td>3</td>\n",
       "        </tr>\n",
       "        <tr>\n",
       "            <td>Failure(drone ship)</td>\n",
       "            <td>F9 FT</td>\n",
       "            <td>GTO</td>\n",
       "            <td>2</td>\n",
       "        </tr>\n",
       "        <tr>\n",
       "            <td>Failure(drone ship)</td>\n",
       "            <td>F9 v1.1</td>\n",
       "            <td>LEO</td>\n",
       "            <td>3</td>\n",
       "        </tr>\n",
       "        <tr>\n",
       "            <td>Precluded(drone ship)</td>\n",
       "            <td>F9 v1.1</td>\n",
       "            <td>LEO</td>\n",
       "            <td>1</td>\n",
       "        </tr>\n",
       "        <tr>\n",
       "            <td>Success(drone ship)</td>\n",
       "            <td>F9 B4</td>\n",
       "            <td>GTO</td>\n",
       "            <td>1</td>\n",
       "        </tr>\n",
       "        <tr>\n",
       "            <td>Success(drone ship)</td>\n",
       "            <td>F9 B4</td>\n",
       "            <td>HEO</td>\n",
       "            <td>1</td>\n",
       "        </tr>\n",
       "        <tr>\n",
       "            <td>Success(drone ship)</td>\n",
       "            <td>F9 B4</td>\n",
       "            <td>PO</td>\n",
       "            <td>1</td>\n",
       "        </tr>\n",
       "        <tr>\n",
       "            <td>Success(drone ship)</td>\n",
       "            <td>F9 B5</td>\n",
       "            <td>BLT</td>\n",
       "            <td>1</td>\n",
       "        </tr>\n",
       "        <tr>\n",
       "            <td>Success(drone ship)</td>\n",
       "            <td>F9 B5</td>\n",
       "            <td>GTO</td>\n",
       "            <td>19</td>\n",
       "        </tr>\n",
       "        <tr>\n",
       "            <td>Success(drone ship)</td>\n",
       "            <td>F9 B5</td>\n",
       "            <td>Heliocentric</td>\n",
       "            <td>1</td>\n",
       "        </tr>\n",
       "        <tr>\n",
       "            <td>Success(drone ship)</td>\n",
       "            <td>F9 B5</td>\n",
       "            <td>LEO</td>\n",
       "            <td>88</td>\n",
       "        </tr>\n",
       "        <tr>\n",
       "            <td>Success(drone ship)</td>\n",
       "            <td>F9 B5</td>\n",
       "            <td>MEO</td>\n",
       "            <td>5</td>\n",
       "        </tr>\n",
       "        <tr>\n",
       "            <td>Success(drone ship)</td>\n",
       "            <td>F9 B5</td>\n",
       "            <td>PO</td>\n",
       "            <td>2</td>\n",
       "        </tr>\n",
       "        <tr>\n",
       "            <td>Success(drone ship)</td>\n",
       "            <td>F9 B5</td>\n",
       "            <td>SSO</td>\n",
       "            <td>7</td>\n",
       "        </tr>\n",
       "        <tr>\n",
       "            <td>Success(drone ship)</td>\n",
       "            <td>F9 FT</td>\n",
       "            <td>GTO</td>\n",
       "            <td>6</td>\n",
       "        </tr>\n",
       "        <tr>\n",
       "            <td>Success(drone ship)</td>\n",
       "            <td>F9 FT</td>\n",
       "            <td>LEO</td>\n",
       "            <td>2</td>\n",
       "        </tr>\n",
       "        <tr>\n",
       "            <td>Success(drone ship)</td>\n",
       "            <td>F9 FT</td>\n",
       "            <td>PO</td>\n",
       "            <td>1</td>\n",
       "        </tr>\n",
       "        <tr>\n",
       "            <td>Success(drone ship)</td>\n",
       "            <td>F9 FT</td>\n",
       "            <td>SSO</td>\n",
       "            <td>1</td>\n",
       "        </tr>\n",
       "    </tbody>\n",
       "</table>"
      ],
      "text/plain": [
       "[('Failure(drone ship)', 'F9 B5', 'LEO', 3),\n",
       " ('Failure(drone ship)', 'F9 FT', 'GTO', 2),\n",
       " ('Failure(drone ship)', 'F9 v1.1', 'LEO', 3),\n",
       " ('Precluded(drone ship)', 'F9 v1.1', 'LEO', 1),\n",
       " ('Success(drone ship)', 'F9 B4', 'GTO', 1),\n",
       " ('Success(drone ship)', 'F9 B4', 'HEO', 1),\n",
       " ('Success(drone ship)', 'F9 B4', 'PO', 1),\n",
       " ('Success(drone ship)', 'F9 B5', 'BLT', 1),\n",
       " ('Success(drone ship)', 'F9 B5', 'GTO', 19),\n",
       " ('Success(drone ship)', 'F9 B5', 'Heliocentric', 1),\n",
       " ('Success(drone ship)', 'F9 B5', 'LEO', 88),\n",
       " ('Success(drone ship)', 'F9 B5', 'MEO', 5),\n",
       " ('Success(drone ship)', 'F9 B5', 'PO', 2),\n",
       " ('Success(drone ship)', 'F9 B5', 'SSO', 7),\n",
       " ('Success(drone ship)', 'F9 FT', 'GTO', 6),\n",
       " ('Success(drone ship)', 'F9 FT', 'LEO', 2),\n",
       " ('Success(drone ship)', 'F9 FT', 'PO', 1),\n",
       " ('Success(drone ship)', 'F9 FT', 'SSO', 1)]"
      ]
     },
     "execution_count": 98,
     "metadata": {},
     "output_type": "execute_result"
    }
   ],
   "source": [
    "%%sql\n",
    "select boosterlanding, boosterversion, orbit, count(Boosterlanding) as TotalDroneShip\n",
    "from spacexlaunch\n",
    "where boosterlanding like \"%drone%\"\n",
    "group by boosterlanding, boosterversion, orbit"
   ]
  },
  {
   "attachments": {},
   "cell_type": "markdown",
   "metadata": {},
   "source": [
    "6. List the name of booster which have success in droneship"
   ]
  },
  {
   "cell_type": "code",
   "execution_count": 66,
   "metadata": {},
   "outputs": [
    {
     "name": "stdout",
     "output_type": "stream",
     "text": [
      " * sqlite:///SpaceX.db\n",
      "Done.\n"
     ]
    },
    {
     "data": {
      "text/html": [
       "<table>\n",
       "    <thead>\n",
       "        <tr>\n",
       "            <th>BoosterVersion</th>\n",
       "            <th>TotalSuccess</th>\n",
       "        </tr>\n",
       "    </thead>\n",
       "    <tbody>\n",
       "        <tr>\n",
       "            <td>F9 B5</td>\n",
       "            <td>123</td>\n",
       "        </tr>\n",
       "        <tr>\n",
       "            <td>F9 FT</td>\n",
       "            <td>10</td>\n",
       "        </tr>\n",
       "        <tr>\n",
       "            <td>F9 B4</td>\n",
       "            <td>3</td>\n",
       "        </tr>\n",
       "    </tbody>\n",
       "</table>"
      ],
      "text/plain": [
       "[('F9 B5', 123), ('F9 FT', 10), ('F9 B4', 3)]"
      ]
     },
     "execution_count": 66,
     "metadata": {},
     "output_type": "execute_result"
    }
   ],
   "source": [
    "%%sql\n",
    "select boosterversion, count(boosterversion) as TotalSuccess\n",
    "from spacexlaunch\n",
    "where boosterlanding = \"Success(drone ship)\"\n",
    "group by boosterversion\n",
    "order by TotalSuccess desc"
   ]
  }
 ],
 "metadata": {
  "kernelspec": {
   "display_name": "Python 3",
   "language": "python",
   "name": "python3"
  },
  "language_info": {
   "codemirror_mode": {
    "name": "ipython",
    "version": 3
   },
   "file_extension": ".py",
   "mimetype": "text/x-python",
   "name": "python",
   "nbconvert_exporter": "python",
   "pygments_lexer": "ipython3",
   "version": "3.9.13"
  },
  "orig_nbformat": 4,
  "vscode": {
   "interpreter": {
    "hash": "aee8b7b246df8f9039afb4144a1f6fd8d2ca17a180786b69acc140d282b71a49"
   }
  }
 },
 "nbformat": 4,
 "nbformat_minor": 2
}
