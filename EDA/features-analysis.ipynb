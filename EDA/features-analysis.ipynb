{
 "cells": [
  {
   "cell_type": "code",
   "execution_count": 80,
   "metadata": {},
   "outputs": [],
   "source": [
    "import pandas as pd\n",
    "import csv, sqlite3"
   ]
  },
  {
   "cell_type": "code",
   "execution_count": 81,
   "metadata": {},
   "outputs": [
    {
     "data": {
      "text/html": [
       "<div>\n",
       "<style scoped>\n",
       "    .dataframe tbody tr th:only-of-type {\n",
       "        vertical-align: middle;\n",
       "    }\n",
       "\n",
       "    .dataframe tbody tr th {\n",
       "        vertical-align: top;\n",
       "    }\n",
       "\n",
       "    .dataframe thead th {\n",
       "        text-align: right;\n",
       "    }\n",
       "</style>\n",
       "<table border=\"1\" class=\"dataframe\">\n",
       "  <thead>\n",
       "    <tr style=\"text-align: right;\">\n",
       "      <th></th>\n",
       "      <th>FlightNo.</th>\n",
       "      <th>Dateandtime(UTC)</th>\n",
       "      <th>Launchsite</th>\n",
       "      <th>Payloadmass</th>\n",
       "      <th>Orbit</th>\n",
       "      <th>Customer</th>\n",
       "      <th>Launchoutcome</th>\n",
       "      <th>Boosterlanding</th>\n",
       "      <th>BoosterVersion</th>\n",
       "      <th>Serial</th>\n",
       "    </tr>\n",
       "  </thead>\n",
       "  <tbody>\n",
       "    <tr>\n",
       "      <th>0</th>\n",
       "      <td>1</td>\n",
       "      <td>2010-06-04</td>\n",
       "      <td>CCSFS SLC-40</td>\n",
       "      <td>8933.290816</td>\n",
       "      <td>LEO</td>\n",
       "      <td>SpaceX</td>\n",
       "      <td>Success</td>\n",
       "      <td>Failure(parachute)</td>\n",
       "      <td>F9 v1.0</td>\n",
       "      <td>B0003</td>\n",
       "    </tr>\n",
       "    <tr>\n",
       "      <th>1</th>\n",
       "      <td>2</td>\n",
       "      <td>2010-12-08</td>\n",
       "      <td>CCSFS SLC-40</td>\n",
       "      <td>8933.290816</td>\n",
       "      <td>LEO</td>\n",
       "      <td>NASA(COTS)</td>\n",
       "      <td>Success</td>\n",
       "      <td>Failure(parachute)</td>\n",
       "      <td>F9 v1.0</td>\n",
       "      <td>B0004</td>\n",
       "    </tr>\n",
       "    <tr>\n",
       "      <th>2</th>\n",
       "      <td>3</td>\n",
       "      <td>2012-05-22</td>\n",
       "      <td>CCSFS SLC-40</td>\n",
       "      <td>525.000000</td>\n",
       "      <td>LEO</td>\n",
       "      <td>NASA(COTS)</td>\n",
       "      <td>Success</td>\n",
       "      <td>No attempt</td>\n",
       "      <td>F9 v1.0</td>\n",
       "      <td>B0005</td>\n",
       "    </tr>\n",
       "    <tr>\n",
       "      <th>3</th>\n",
       "      <td>4</td>\n",
       "      <td>2012-10-08</td>\n",
       "      <td>CCSFS SLC-40</td>\n",
       "      <td>4700.000000</td>\n",
       "      <td>LEO</td>\n",
       "      <td>NASA(CRS)</td>\n",
       "      <td>Success</td>\n",
       "      <td>No attempt</td>\n",
       "      <td>F9 v1.0</td>\n",
       "      <td>B0006</td>\n",
       "    </tr>\n",
       "    <tr>\n",
       "      <th>4</th>\n",
       "      <td>5</td>\n",
       "      <td>2013-03-01</td>\n",
       "      <td>CCSFS SLC-40</td>\n",
       "      <td>4877.000000</td>\n",
       "      <td>LEO</td>\n",
       "      <td>NASA(CRS)</td>\n",
       "      <td>Success</td>\n",
       "      <td>No attempt</td>\n",
       "      <td>F9 v1.0</td>\n",
       "      <td>B0007</td>\n",
       "    </tr>\n",
       "  </tbody>\n",
       "</table>\n",
       "</div>"
      ],
      "text/plain": [
       "   FlightNo. Dateandtime(UTC)    Launchsite  Payloadmass Orbit    Customer  \\\n",
       "0          1       2010-06-04  CCSFS SLC-40  8933.290816   LEO      SpaceX   \n",
       "1          2       2010-12-08  CCSFS SLC-40  8933.290816   LEO  NASA(COTS)   \n",
       "2          3       2012-05-22  CCSFS SLC-40   525.000000   LEO  NASA(COTS)   \n",
       "3          4       2012-10-08  CCSFS SLC-40  4700.000000   LEO   NASA(CRS)   \n",
       "4          5       2013-03-01  CCSFS SLC-40  4877.000000   LEO   NASA(CRS)   \n",
       "\n",
       "  Launchoutcome      Boosterlanding BoosterVersion Serial  \n",
       "0       Success  Failure(parachute)        F9 v1.0  B0003  \n",
       "1       Success  Failure(parachute)        F9 v1.0  B0004  \n",
       "2       Success          No attempt        F9 v1.0  B0005  \n",
       "3       Success          No attempt        F9 v1.0  B0006  \n",
       "4       Success          No attempt        F9 v1.0  B0007  "
      ]
     },
     "execution_count": 81,
     "metadata": {},
     "output_type": "execute_result"
    }
   ],
   "source": [
    "df = pd.read_csv(\"../cleaning-data/web-cleaned-data.csv\")\n",
    "df.head()"
   ]
  },
  {
   "cell_type": "code",
   "execution_count": 82,
   "metadata": {},
   "outputs": [],
   "source": [
    "success = ['Controlled(ocean)', 'Success(ground pad)', 'Success(drone ship)']\n",
    "df['Landingstatus'] = df['Boosterlanding'].map(lambda x: 1 if x in success else 0)"
   ]
  },
  {
   "cell_type": "code",
   "execution_count": 83,
   "metadata": {},
   "outputs": [],
   "source": [
    "conn = sqlite3.connect('SpaceX.db')\n",
    "df.to_sql(\"SPACEXLAUNCH\", conn, if_exists=\"replace\", index=False)\n",
    "conn.commit()\n",
    "conn.close()"
   ]
  },
  {
   "cell_type": "code",
   "execution_count": 84,
   "metadata": {},
   "outputs": [
    {
     "name": "stdout",
     "output_type": "stream",
     "text": [
      "The sql extension is already loaded. To reload it, use:\n",
      "  %reload_ext sql\n"
     ]
    }
   ],
   "source": [
    "%load_ext sql\n",
    "conn = sqlite3.connect('SpaceX.db')\n",
    "cur = conn.cursor()\n",
    "%sql sqlite:///SpaceX.db"
   ]
  },
  {
   "attachments": {},
   "cell_type": "markdown",
   "metadata": {},
   "source": [
    "1. How many launchsite does SpaceX have? How does launchsite affect landing status?\n",
    "\n",
    "* From the first glance, most launchs was in CCSFS SLC-40, total 115 flights, second was KSC LC-39A, 57 flights, and finally was VSFB SLC-4E, 36 flights\n",
    "\n",
    "* Success landing rate in each launch site is 75.65%, 91.22%, 86.11% respectively\n",
    "\n",
    "* Most ocean landing was in CCSFS (5 flights) success rate 80%, VSFB also has 2 flights success rate 50%. KSC has the highest rate of success of drone ship landing (45/46 flights). VSFB and KSC also have no failure in ground pad landing (total ground pad landing was 30, and we only have 1 failiure in CCSFS)\n",
    "\n",
    "* PayloadMass from KSC LC-39 has the average highest mass 10405.24 kg\n",
    "\n",
    "* When observe launchsite with orbit, the most various launchsite was CCSFS SLC-40, it already tried HEO, ES-L1, BLT, MEO orbit, which the other launchsite haven't tried yet. We also have 1 sub-orbital from KSC and 1 Heliocentric from VSFB\n",
    "\n",
    "* The special things are SSO and PO orbit almost launched from VSFB, SSO also launched from CCSFS (8 flights) but fewer when compared to VSFB\n",
    "\n",
    "* There is no Falcon v1.0 v1.1 launched at KSC"
   ]
  },
  {
   "cell_type": "code",
   "execution_count": 85,
   "metadata": {},
   "outputs": [
    {
     "name": "stdout",
     "output_type": "stream",
     "text": [
      " * sqlite:///SpaceX.db\n",
      "Done.\n"
     ]
    },
    {
     "data": {
      "text/html": [
       "<table>\n",
       "    <thead>\n",
       "        <tr>\n",
       "            <th>Launchsite</th>\n",
       "            <th>Landingstatus</th>\n",
       "            <th>LaunchTotal</th>\n",
       "        </tr>\n",
       "    </thead>\n",
       "    <tbody>\n",
       "        <tr>\n",
       "            <td>CCSFS SLC-40</td>\n",
       "            <td>0</td>\n",
       "            <td>28</td>\n",
       "        </tr>\n",
       "        <tr>\n",
       "            <td>CCSFS SLC-40</td>\n",
       "            <td>1</td>\n",
       "            <td>87</td>\n",
       "        </tr>\n",
       "        <tr>\n",
       "            <td>KSC LC-39A</td>\n",
       "            <td>0</td>\n",
       "            <td>5</td>\n",
       "        </tr>\n",
       "        <tr>\n",
       "            <td>KSC LC-39A</td>\n",
       "            <td>1</td>\n",
       "            <td>52</td>\n",
       "        </tr>\n",
       "        <tr>\n",
       "            <td>VSFB SLC-4E</td>\n",
       "            <td>0</td>\n",
       "            <td>5</td>\n",
       "        </tr>\n",
       "        <tr>\n",
       "            <td>VSFB SLC-4E</td>\n",
       "            <td>1</td>\n",
       "            <td>31</td>\n",
       "        </tr>\n",
       "    </tbody>\n",
       "</table>"
      ],
      "text/plain": [
       "[('CCSFS SLC-40', 0, 28),\n",
       " ('CCSFS SLC-40', 1, 87),\n",
       " ('KSC LC-39A', 0, 5),\n",
       " ('KSC LC-39A', 1, 52),\n",
       " ('VSFB SLC-4E', 0, 5),\n",
       " ('VSFB SLC-4E', 1, 31)]"
      ]
     },
     "execution_count": 85,
     "metadata": {},
     "output_type": "execute_result"
    }
   ],
   "source": [
    "%%sql\n",
    "select launchsite, landingstatus, count(launchsite) as LaunchTotal\n",
    "from spacexlaunch\n",
    "group by launchsite, landingstatus"
   ]
  },
  {
   "cell_type": "code",
   "execution_count": 86,
   "metadata": {},
   "outputs": [
    {
     "name": "stdout",
     "output_type": "stream",
     "text": [
      " * sqlite:///SpaceX.db\n",
      "Done.\n"
     ]
    },
    {
     "data": {
      "text/html": [
       "<table>\n",
       "    <thead>\n",
       "        <tr>\n",
       "            <th>Launchsite</th>\n",
       "            <th>AverageMass</th>\n",
       "            <th>MinMass</th>\n",
       "            <th>MaxMass</th>\n",
       "        </tr>\n",
       "    </thead>\n",
       "    <tbody>\n",
       "        <tr>\n",
       "            <td>CCSFS SLC-40</td>\n",
       "            <td>8161.263708961844</td>\n",
       "            <td>362.0</td>\n",
       "            <td>17400.0</td>\n",
       "        </tr>\n",
       "        <tr>\n",
       "            <td>KSC LC-39A</td>\n",
       "            <td>10405.23827425707</td>\n",
       "            <td>325.0</td>\n",
       "            <td>16700.0</td>\n",
       "        </tr>\n",
       "        <tr>\n",
       "            <td>VSFB SLC-4E</td>\n",
       "            <td>9068.905045351474</td>\n",
       "            <td>400.0</td>\n",
       "            <td>16400.0</td>\n",
       "        </tr>\n",
       "    </tbody>\n",
       "</table>"
      ],
      "text/plain": [
       "[('CCSFS SLC-40', 8161.263708961844, 362.0, 17400.0),\n",
       " ('KSC LC-39A', 10405.23827425707, 325.0, 16700.0),\n",
       " ('VSFB SLC-4E', 9068.905045351474, 400.0, 16400.0)]"
      ]
     },
     "execution_count": 86,
     "metadata": {},
     "output_type": "execute_result"
    }
   ],
   "source": [
    "%%sql\n",
    "select launchsite, avg(payloadmass) as AverageMass, min(payloadmass) as MinMass, max(payloadmass) as MaxMass\n",
    "from spacexlaunch\n",
    "group by launchsite"
   ]
  },
  {
   "cell_type": "code",
   "execution_count": 87,
   "metadata": {},
   "outputs": [
    {
     "name": "stdout",
     "output_type": "stream",
     "text": [
      " * sqlite:///SpaceX.db\n",
      "Done.\n"
     ]
    },
    {
     "data": {
      "text/html": [
       "<table>\n",
       "    <thead>\n",
       "        <tr>\n",
       "            <th>Orbit</th>\n",
       "            <th>TotalFlight</th>\n",
       "        </tr>\n",
       "    </thead>\n",
       "    <tbody>\n",
       "        <tr>\n",
       "            <td>BLT</td>\n",
       "            <td>2</td>\n",
       "        </tr>\n",
       "        <tr>\n",
       "            <td>ES-L1</td>\n",
       "            <td>1</td>\n",
       "        </tr>\n",
       "        <tr>\n",
       "            <td>GTO</td>\n",
       "            <td>34</td>\n",
       "        </tr>\n",
       "        <tr>\n",
       "            <td>HEO</td>\n",
       "            <td>1</td>\n",
       "        </tr>\n",
       "        <tr>\n",
       "            <td>LEO</td>\n",
       "            <td>62</td>\n",
       "        </tr>\n",
       "        <tr>\n",
       "            <td>MEO</td>\n",
       "            <td>6</td>\n",
       "        </tr>\n",
       "        <tr>\n",
       "            <td>PO</td>\n",
       "            <td>1</td>\n",
       "        </tr>\n",
       "        <tr>\n",
       "            <td>SSO</td>\n",
       "            <td>8</td>\n",
       "        </tr>\n",
       "    </tbody>\n",
       "</table>"
      ],
      "text/plain": [
       "[('BLT', 2),\n",
       " ('ES-L1', 1),\n",
       " ('GTO', 34),\n",
       " ('HEO', 1),\n",
       " ('LEO', 62),\n",
       " ('MEO', 6),\n",
       " ('PO', 1),\n",
       " ('SSO', 8)]"
      ]
     },
     "execution_count": 87,
     "metadata": {},
     "output_type": "execute_result"
    }
   ],
   "source": [
    "%%sql\n",
    "select orbit, count(orbit) as TotalFlight\n",
    "from spacexlaunch\n",
    "where launchsite = 'CCSFS SLC-40'\n",
    "group by orbit"
   ]
  },
  {
   "cell_type": "code",
   "execution_count": 88,
   "metadata": {},
   "outputs": [
    {
     "name": "stdout",
     "output_type": "stream",
     "text": [
      " * sqlite:///SpaceX.db\n",
      "Done.\n"
     ]
    },
    {
     "data": {
      "text/html": [
       "<table>\n",
       "    <thead>\n",
       "        <tr>\n",
       "            <th>Orbit</th>\n",
       "            <th>TotalFlight</th>\n",
       "        </tr>\n",
       "    </thead>\n",
       "    <tbody>\n",
       "        <tr>\n",
       "            <td>GTO</td>\n",
       "            <td>9</td>\n",
       "        </tr>\n",
       "        <tr>\n",
       "            <td>LEO</td>\n",
       "            <td>46</td>\n",
       "        </tr>\n",
       "        <tr>\n",
       "            <td>PO</td>\n",
       "            <td>1</td>\n",
       "        </tr>\n",
       "        <tr>\n",
       "            <td>Sub-orbital</td>\n",
       "            <td>1</td>\n",
       "        </tr>\n",
       "    </tbody>\n",
       "</table>"
      ],
      "text/plain": [
       "[('GTO', 9), ('LEO', 46), ('PO', 1), ('Sub-orbital', 1)]"
      ]
     },
     "execution_count": 88,
     "metadata": {},
     "output_type": "execute_result"
    }
   ],
   "source": [
    "%%sql\n",
    "select orbit, count(orbit) as TotalFlight\n",
    "from spacexlaunch\n",
    "where launchsite = 'KSC LC-39A'\n",
    "group by orbit"
   ]
  },
  {
   "cell_type": "code",
   "execution_count": 89,
   "metadata": {},
   "outputs": [
    {
     "name": "stdout",
     "output_type": "stream",
     "text": [
      " * sqlite:///SpaceX.db\n",
      "Done.\n"
     ]
    },
    {
     "data": {
      "text/html": [
       "<table>\n",
       "    <thead>\n",
       "        <tr>\n",
       "            <th>Orbit</th>\n",
       "            <th>TotalFlight</th>\n",
       "        </tr>\n",
       "    </thead>\n",
       "    <tbody>\n",
       "        <tr>\n",
       "            <td>Heliocentric</td>\n",
       "            <td>1</td>\n",
       "        </tr>\n",
       "        <tr>\n",
       "            <td>LEO</td>\n",
       "            <td>16</td>\n",
       "        </tr>\n",
       "        <tr>\n",
       "            <td>PO</td>\n",
       "            <td>8</td>\n",
       "        </tr>\n",
       "        <tr>\n",
       "            <td>SSO</td>\n",
       "            <td>11</td>\n",
       "        </tr>\n",
       "    </tbody>\n",
       "</table>"
      ],
      "text/plain": [
       "[('Heliocentric', 1), ('LEO', 16), ('PO', 8), ('SSO', 11)]"
      ]
     },
     "execution_count": 89,
     "metadata": {},
     "output_type": "execute_result"
    }
   ],
   "source": [
    "%%sql\n",
    "select orbit, count(orbit) as TotalFlight\n",
    "from spacexlaunch\n",
    "where launchsite = 'VSFB SLC-4E'\n",
    "group by orbit"
   ]
  },
  {
   "cell_type": "code",
   "execution_count": 90,
   "metadata": {},
   "outputs": [
    {
     "name": "stdout",
     "output_type": "stream",
     "text": [
      " * sqlite:///SpaceX.db\n",
      "Done.\n"
     ]
    },
    {
     "data": {
      "text/html": [
       "<table>\n",
       "    <thead>\n",
       "        <tr>\n",
       "            <th>Boosterlanding</th>\n",
       "            <th>TotalFlight</th>\n",
       "        </tr>\n",
       "    </thead>\n",
       "    <tbody>\n",
       "        <tr>\n",
       "            <td>Controlled(ocean)</td>\n",
       "            <td>4</td>\n",
       "        </tr>\n",
       "        <tr>\n",
       "            <td>Failure(drone ship)</td>\n",
       "            <td>6</td>\n",
       "        </tr>\n",
       "        <tr>\n",
       "            <td>Failure(ground pad)</td>\n",
       "            <td>1</td>\n",
       "        </tr>\n",
       "        <tr>\n",
       "            <td>Failure(parachute)</td>\n",
       "            <td>2</td>\n",
       "        </tr>\n",
       "        <tr>\n",
       "            <td>No attempt</td>\n",
       "            <td>17</td>\n",
       "        </tr>\n",
       "        <tr>\n",
       "            <td>Precluded(drone ship)</td>\n",
       "            <td>1</td>\n",
       "        </tr>\n",
       "        <tr>\n",
       "            <td>Success(drone ship)</td>\n",
       "            <td>69</td>\n",
       "        </tr>\n",
       "        <tr>\n",
       "            <td>Success(ground pad)</td>\n",
       "            <td>14</td>\n",
       "        </tr>\n",
       "        <tr>\n",
       "            <td>Uncontrolled(ocean)</td>\n",
       "            <td>1</td>\n",
       "        </tr>\n",
       "    </tbody>\n",
       "</table>"
      ],
      "text/plain": [
       "[('Controlled(ocean)', 4),\n",
       " ('Failure(drone ship)', 6),\n",
       " ('Failure(ground pad)', 1),\n",
       " ('Failure(parachute)', 2),\n",
       " ('No attempt', 17),\n",
       " ('Precluded(drone ship)', 1),\n",
       " ('Success(drone ship)', 69),\n",
       " ('Success(ground pad)', 14),\n",
       " ('Uncontrolled(ocean)', 1)]"
      ]
     },
     "execution_count": 90,
     "metadata": {},
     "output_type": "execute_result"
    }
   ],
   "source": [
    "%%sql\n",
    "select boosterlanding, count(boosterlanding) as TotalFlight\n",
    "from spacexlaunch\n",
    "where launchsite = 'CCSFS SLC-40'\n",
    "group by boosterlanding"
   ]
  },
  {
   "cell_type": "code",
   "execution_count": 91,
   "metadata": {},
   "outputs": [
    {
     "name": "stdout",
     "output_type": "stream",
     "text": [
      " * sqlite:///SpaceX.db\n",
      "Done.\n"
     ]
    },
    {
     "data": {
      "text/html": [
       "<table>\n",
       "    <thead>\n",
       "        <tr>\n",
       "            <th>Boosterlanding</th>\n",
       "            <th>TotalFlight</th>\n",
       "        </tr>\n",
       "    </thead>\n",
       "    <tbody>\n",
       "        <tr>\n",
       "            <td>Failure(drone ship)</td>\n",
       "            <td>1</td>\n",
       "        </tr>\n",
       "        <tr>\n",
       "            <td>No attempt</td>\n",
       "            <td>4</td>\n",
       "        </tr>\n",
       "        <tr>\n",
       "            <td>Success(drone ship)</td>\n",
       "            <td>45</td>\n",
       "        </tr>\n",
       "        <tr>\n",
       "            <td>Success(ground pad)</td>\n",
       "            <td>7</td>\n",
       "        </tr>\n",
       "    </tbody>\n",
       "</table>"
      ],
      "text/plain": [
       "[('Failure(drone ship)', 1),\n",
       " ('No attempt', 4),\n",
       " ('Success(drone ship)', 45),\n",
       " ('Success(ground pad)', 7)]"
      ]
     },
     "execution_count": 91,
     "metadata": {},
     "output_type": "execute_result"
    }
   ],
   "source": [
    "%%sql\n",
    "select boosterlanding, count(boosterlanding) as TotalFlight\n",
    "from spacexlaunch\n",
    "where launchsite = 'KSC LC-39A'\n",
    "group by boosterlanding"
   ]
  },
  {
   "cell_type": "code",
   "execution_count": 92,
   "metadata": {},
   "outputs": [
    {
     "name": "stdout",
     "output_type": "stream",
     "text": [
      " * sqlite:///SpaceX.db\n",
      "Done.\n"
     ]
    },
    {
     "data": {
      "text/html": [
       "<table>\n",
       "    <thead>\n",
       "        <tr>\n",
       "            <th>Boosterlanding</th>\n",
       "            <th>TotalFlight</th>\n",
       "        </tr>\n",
       "    </thead>\n",
       "    <tbody>\n",
       "        <tr>\n",
       "            <td>Controlled(ocean)</td>\n",
       "            <td>1</td>\n",
       "        </tr>\n",
       "        <tr>\n",
       "            <td>Failure(drone ship)</td>\n",
       "            <td>1</td>\n",
       "        </tr>\n",
       "        <tr>\n",
       "            <td>No attempt</td>\n",
       "            <td>3</td>\n",
       "        </tr>\n",
       "        <tr>\n",
       "            <td>Success(drone ship)</td>\n",
       "            <td>22</td>\n",
       "        </tr>\n",
       "        <tr>\n",
       "            <td>Success(ground pad)</td>\n",
       "            <td>8</td>\n",
       "        </tr>\n",
       "        <tr>\n",
       "            <td>Uncontrolled(ocean)</td>\n",
       "            <td>1</td>\n",
       "        </tr>\n",
       "    </tbody>\n",
       "</table>"
      ],
      "text/plain": [
       "[('Controlled(ocean)', 1),\n",
       " ('Failure(drone ship)', 1),\n",
       " ('No attempt', 3),\n",
       " ('Success(drone ship)', 22),\n",
       " ('Success(ground pad)', 8),\n",
       " ('Uncontrolled(ocean)', 1)]"
      ]
     },
     "execution_count": 92,
     "metadata": {},
     "output_type": "execute_result"
    }
   ],
   "source": [
    "%%sql\n",
    "select boosterlanding, count(boosterlanding) as TotalFlight\n",
    "from spacexlaunch\n",
    "where launchsite = 'VSFB SLC-4E'\n",
    "group by boosterlanding"
   ]
  },
  {
   "cell_type": "code",
   "execution_count": 93,
   "metadata": {},
   "outputs": [
    {
     "name": "stdout",
     "output_type": "stream",
     "text": [
      " * sqlite:///SpaceX.db\n",
      "Done.\n"
     ]
    },
    {
     "data": {
      "text/html": [
       "<table>\n",
       "    <thead>\n",
       "        <tr>\n",
       "            <th>Launchsite</th>\n",
       "            <th>BoosterVersion</th>\n",
       "            <th>TotalFlight</th>\n",
       "        </tr>\n",
       "    </thead>\n",
       "    <tbody>\n",
       "        <tr>\n",
       "            <td>CCSFS SLC-40</td>\n",
       "            <td>F9 B4</td>\n",
       "            <td>6</td>\n",
       "        </tr>\n",
       "        <tr>\n",
       "            <td>CCSFS SLC-40</td>\n",
       "            <td>F9 B5</td>\n",
       "            <td>81</td>\n",
       "        </tr>\n",
       "        <tr>\n",
       "            <td>CCSFS SLC-40</td>\n",
       "            <td>F9 FT</td>\n",
       "            <td>10</td>\n",
       "        </tr>\n",
       "        <tr>\n",
       "            <td>CCSFS SLC-40</td>\n",
       "            <td>F9 v1.0</td>\n",
       "            <td>5</td>\n",
       "        </tr>\n",
       "        <tr>\n",
       "            <td>CCSFS SLC-40</td>\n",
       "            <td>F9 v1.1</td>\n",
       "            <td>13</td>\n",
       "        </tr>\n",
       "        <tr>\n",
       "            <td>KSC LC-39A</td>\n",
       "            <td>F9 B4</td>\n",
       "            <td>3</td>\n",
       "        </tr>\n",
       "        <tr>\n",
       "            <td>KSC LC-39A</td>\n",
       "            <td>F9 B5</td>\n",
       "            <td>45</td>\n",
       "        </tr>\n",
       "        <tr>\n",
       "            <td>KSC LC-39A</td>\n",
       "            <td>F9 FT</td>\n",
       "            <td>9</td>\n",
       "        </tr>\n",
       "        <tr>\n",
       "            <td>VSFB SLC-4E</td>\n",
       "            <td>F9 B4</td>\n",
       "            <td>3</td>\n",
       "        </tr>\n",
       "        <tr>\n",
       "            <td>VSFB SLC-4E</td>\n",
       "            <td>F9 B5</td>\n",
       "            <td>26</td>\n",
       "        </tr>\n",
       "        <tr>\n",
       "            <td>VSFB SLC-4E</td>\n",
       "            <td>F9 FT</td>\n",
       "            <td>5</td>\n",
       "        </tr>\n",
       "        <tr>\n",
       "            <td>VSFB SLC-4E</td>\n",
       "            <td>F9 v1.1</td>\n",
       "            <td>2</td>\n",
       "        </tr>\n",
       "    </tbody>\n",
       "</table>"
      ],
      "text/plain": [
       "[('CCSFS SLC-40', 'F9 B4', 6),\n",
       " ('CCSFS SLC-40', 'F9 B5', 81),\n",
       " ('CCSFS SLC-40', 'F9 FT', 10),\n",
       " ('CCSFS SLC-40', 'F9 v1.0', 5),\n",
       " ('CCSFS SLC-40', 'F9 v1.1', 13),\n",
       " ('KSC LC-39A', 'F9 B4', 3),\n",
       " ('KSC LC-39A', 'F9 B5', 45),\n",
       " ('KSC LC-39A', 'F9 FT', 9),\n",
       " ('VSFB SLC-4E', 'F9 B4', 3),\n",
       " ('VSFB SLC-4E', 'F9 B5', 26),\n",
       " ('VSFB SLC-4E', 'F9 FT', 5),\n",
       " ('VSFB SLC-4E', 'F9 v1.1', 2)]"
      ]
     },
     "execution_count": 93,
     "metadata": {},
     "output_type": "execute_result"
    }
   ],
   "source": [
    "%%sql\n",
    "select launchsite, boosterversion, count(boosterversion) as TotalFlight\n",
    "from spacexlaunch\n",
    "group by launchsite, boosterversion"
   ]
  },
  {
   "attachments": {},
   "cell_type": "markdown",
   "metadata": {},
   "source": [
    "2. The key customers of SpaceX\n",
    "\n",
    "It can be seen that most of SpaceX customers are NASA, SpaceX, SES and Iridium Communications. \n",
    "\n",
    "* SES is a Luxembourgish leading satellite telecommunications network provider with over 70 satellites in two different orbits. \n",
    "\n",
    "* Iridium operates the Iridium satellite constellation, a system of 66 active satellites and nine in-orbit spares used for worldwide voice and data communication from handheld satellite phones, satellite messenger communication devices and integrated transceivers\n",
    "\n",
    "* NASA: The National Aeronautics and Space Administration is an independent agency of the U.S. federal government responsible for the civil space program, aeronautics research, and space research. CRS are a contract solution to deliver cargo and supplies to the International Space Station (ISS) on a commmercial basis\n",
    "\n",
    "* We have total 46 flights which are related to NASA, in which NASA(CRS) accounted for the most 26 flights but fewer total payload 71326 kgs, compared to NASA(CTS) 6 flights but total payload is 77050 kgs, average payload mass of each flights of NASA(CRS) is 2743, most of NASA launch was LEO orbit with 70% success rate (28/40)\n",
    "\n",
    "* The average payload mass of SpaceX is approximately more than 15000 kgs each flights, total flights which is related to SpaceX are 77 flights. SpaceX focus on LEO and SSO orbit, success rate 94%, 80% respectively\n",
    "\n",
    "* Iridium focus on PO orbit launch (7 flights) with average payload mass is 9600 kgs, it also has 1 flight for LEO orbit\n",
    "\n",
    "* SES focus on GTO orbit launch (7 flights) with average payload mass is about 4600 kgs, it also has 1 flight for MEO orbit"
   ]
  },
  {
   "cell_type": "code",
   "execution_count": 94,
   "metadata": {},
   "outputs": [
    {
     "name": "stdout",
     "output_type": "stream",
     "text": [
      " * sqlite:///SpaceX.db\n",
      "Done.\n"
     ]
    },
    {
     "data": {
      "text/html": [
       "<table>\n",
       "    <thead>\n",
       "        <tr>\n",
       "            <th>Customer</th>\n",
       "            <th>TotalFlight</th>\n",
       "        </tr>\n",
       "    </thead>\n",
       "    <tbody>\n",
       "        <tr>\n",
       "            <td>SpaceX</td>\n",
       "            <td>68</td>\n",
       "        </tr>\n",
       "        <tr>\n",
       "            <td>NASA(CRS)</td>\n",
       "            <td>26</td>\n",
       "        </tr>\n",
       "        <tr>\n",
       "            <td>SES</td>\n",
       "            <td>7</td>\n",
       "        </tr>\n",
       "        <tr>\n",
       "            <td>Iridium Communications</td>\n",
       "            <td>7</td>\n",
       "        </tr>\n",
       "        <tr>\n",
       "            <td>Various</td>\n",
       "            <td>6</td>\n",
       "        </tr>\n",
       "    </tbody>\n",
       "</table>"
      ],
      "text/plain": [
       "[('SpaceX', 68),\n",
       " ('NASA(CRS)', 26),\n",
       " ('SES', 7),\n",
       " ('Iridium Communications', 7),\n",
       " ('Various', 6)]"
      ]
     },
     "execution_count": 94,
     "metadata": {},
     "output_type": "execute_result"
    }
   ],
   "source": [
    "%%sql\n",
    "select customer, count(customer) as TotalFlight\n",
    "from spacexlaunch\n",
    "group by customer\n",
    "order by TotalFlight desc\n",
    "limit 5"
   ]
  },
  {
   "cell_type": "code",
   "execution_count": 95,
   "metadata": {},
   "outputs": [
    {
     "name": "stdout",
     "output_type": "stream",
     "text": [
      " * sqlite:///SpaceX.db\n",
      "Done.\n"
     ]
    },
    {
     "data": {
      "text/html": [
       "<table>\n",
       "    <thead>\n",
       "        <tr>\n",
       "            <th>Customer</th>\n",
       "            <th>TotalPayloadMass</th>\n",
       "            <th>LaunchTotal</th>\n",
       "            <th>AveragePerLaunch</th>\n",
       "        </tr>\n",
       "    </thead>\n",
       "    <tbody>\n",
       "        <tr>\n",
       "            <td>NASA(CTS)</td>\n",
       "            <td>77050.0</td>\n",
       "            <td>6</td>\n",
       "            <td>12841.666666666666</td>\n",
       "        </tr>\n",
       "        <tr>\n",
       "            <td>NASA(CRS)</td>\n",
       "            <td>71326.0</td>\n",
       "            <td>26</td>\n",
       "            <td>2743.3076923076924</td>\n",
       "        </tr>\n",
       "        <tr>\n",
       "            <td>NASA(CCDev)</td>\n",
       "            <td>12530.0</td>\n",
       "            <td>1</td>\n",
       "            <td>12530.0</td>\n",
       "        </tr>\n",
       "        <tr>\n",
       "            <td>NASA(CCP)</td>\n",
       "            <td>12500.0</td>\n",
       "            <td>1</td>\n",
       "            <td>12500.0</td>\n",
       "        </tr>\n",
       "        <tr>\n",
       "            <td>NASA(CCD)</td>\n",
       "            <td>12055.0</td>\n",
       "            <td>1</td>\n",
       "            <td>12055.0</td>\n",
       "        </tr>\n",
       "        <tr>\n",
       "            <td>NASA(COTS)</td>\n",
       "            <td>9458.290816326531</td>\n",
       "            <td>2</td>\n",
       "            <td>4729.1454081632655</td>\n",
       "        </tr>\n",
       "        <tr>\n",
       "            <td>Iridium Communications/GFZ/NASA</td>\n",
       "            <td>6460.0</td>\n",
       "            <td>1</td>\n",
       "            <td>6460.0</td>\n",
       "        </tr>\n",
       "        <tr>\n",
       "            <td>NASA/CNES</td>\n",
       "            <td>2200.0</td>\n",
       "            <td>1</td>\n",
       "            <td>2200.0</td>\n",
       "        </tr>\n",
       "        <tr>\n",
       "            <td>NASA(LSP)</td>\n",
       "            <td>1311.0</td>\n",
       "            <td>3</td>\n",
       "            <td>437.0</td>\n",
       "        </tr>\n",
       "        <tr>\n",
       "            <td>NASA/NOAA/ESA/EUMETSAT</td>\n",
       "            <td>1192.0</td>\n",
       "            <td>1</td>\n",
       "            <td>1192.0</td>\n",
       "        </tr>\n",
       "        <tr>\n",
       "            <td>ispace/MBRSC/JAXA/NASA</td>\n",
       "            <td>1000.0</td>\n",
       "            <td>1</td>\n",
       "            <td>1000.0</td>\n",
       "        </tr>\n",
       "        <tr>\n",
       "            <td>USAF/NASA/NOAA</td>\n",
       "            <td>570.0</td>\n",
       "            <td>1</td>\n",
       "            <td>570.0</td>\n",
       "        </tr>\n",
       "        <tr>\n",
       "            <td>NASA/NOAA/CNES</td>\n",
       "            <td>553.0</td>\n",
       "            <td>1</td>\n",
       "            <td>553.0</td>\n",
       "        </tr>\n",
       "    </tbody>\n",
       "</table>"
      ],
      "text/plain": [
       "[('NASA(CTS)', 77050.0, 6, 12841.666666666666),\n",
       " ('NASA(CRS)', 71326.0, 26, 2743.3076923076924),\n",
       " ('NASA(CCDev)', 12530.0, 1, 12530.0),\n",
       " ('NASA(CCP)', 12500.0, 1, 12500.0),\n",
       " ('NASA(CCD)', 12055.0, 1, 12055.0),\n",
       " ('NASA(COTS)', 9458.290816326531, 2, 4729.1454081632655),\n",
       " ('Iridium Communications/GFZ/NASA', 6460.0, 1, 6460.0),\n",
       " ('NASA/CNES', 2200.0, 1, 2200.0),\n",
       " ('NASA(LSP)', 1311.0, 3, 437.0),\n",
       " ('NASA/NOAA/ESA/EUMETSAT', 1192.0, 1, 1192.0),\n",
       " ('ispace/MBRSC/JAXA/NASA', 1000.0, 1, 1000.0),\n",
       " ('USAF/NASA/NOAA', 570.0, 1, 570.0),\n",
       " ('NASA/NOAA/CNES', 553.0, 1, 553.0)]"
      ]
     },
     "execution_count": 95,
     "metadata": {},
     "output_type": "execute_result"
    }
   ],
   "source": [
    "%%sql \n",
    "select customer, sum(payloadmass) as TotalPayloadMass, count(customer) as LaunchTotal, avg(payloadmass) as AveragePerLaunch\n",
    "from spacexlaunch\n",
    "where customer like '%NASA%'\n",
    "group by customer\n",
    "order by TotalPayloadMass desc"
   ]
  },
  {
   "cell_type": "code",
   "execution_count": 96,
   "metadata": {},
   "outputs": [
    {
     "name": "stdout",
     "output_type": "stream",
     "text": [
      " * sqlite:///SpaceX.db\n",
      "Done.\n"
     ]
    },
    {
     "data": {
      "text/html": [
       "<table>\n",
       "    <thead>\n",
       "        <tr>\n",
       "            <th>Orbit</th>\n",
       "            <th>Landingstatus</th>\n",
       "            <th>TotalFlights</th>\n",
       "        </tr>\n",
       "    </thead>\n",
       "    <tbody>\n",
       "        <tr>\n",
       "            <td>LEO</td>\n",
       "            <td>1</td>\n",
       "            <td>28</td>\n",
       "        </tr>\n",
       "        <tr>\n",
       "            <td>LEO</td>\n",
       "            <td>0</td>\n",
       "            <td>12</td>\n",
       "        </tr>\n",
       "        <tr>\n",
       "            <td>BLT</td>\n",
       "            <td>1</td>\n",
       "            <td>1</td>\n",
       "        </tr>\n",
       "        <tr>\n",
       "            <td>ES-L1</td>\n",
       "            <td>1</td>\n",
       "            <td>1</td>\n",
       "        </tr>\n",
       "        <tr>\n",
       "            <td>HEO</td>\n",
       "            <td>1</td>\n",
       "            <td>1</td>\n",
       "        </tr>\n",
       "        <tr>\n",
       "            <td>Heliocentric</td>\n",
       "            <td>1</td>\n",
       "            <td>1</td>\n",
       "        </tr>\n",
       "        <tr>\n",
       "            <td>PO</td>\n",
       "            <td>0</td>\n",
       "            <td>1</td>\n",
       "        </tr>\n",
       "        <tr>\n",
       "            <td>Sub-orbital</td>\n",
       "            <td>0</td>\n",
       "            <td>1</td>\n",
       "        </tr>\n",
       "    </tbody>\n",
       "</table>"
      ],
      "text/plain": [
       "[('LEO', 1, 28),\n",
       " ('LEO', 0, 12),\n",
       " ('BLT', 1, 1),\n",
       " ('ES-L1', 1, 1),\n",
       " ('HEO', 1, 1),\n",
       " ('Heliocentric', 1, 1),\n",
       " ('PO', 0, 1),\n",
       " ('Sub-orbital', 0, 1)]"
      ]
     },
     "execution_count": 96,
     "metadata": {},
     "output_type": "execute_result"
    }
   ],
   "source": [
    "%%sql \n",
    "select orbit, landingstatus, count(orbit) as TotalFlights\n",
    "from spacexlaunch\n",
    "where customer like '%NASA%'\n",
    "group by orbit, landingstatus\n",
    "order by TotalFlights desc"
   ]
  },
  {
   "cell_type": "code",
   "execution_count": 97,
   "metadata": {},
   "outputs": [
    {
     "name": "stdout",
     "output_type": "stream",
     "text": [
      " * sqlite:///SpaceX.db\n",
      "Done.\n"
     ]
    },
    {
     "data": {
      "text/html": [
       "<table>\n",
       "    <thead>\n",
       "        <tr>\n",
       "            <th>Customer</th>\n",
       "            <th>TotalPayloadMass</th>\n",
       "            <th>LaunchTotal</th>\n",
       "            <th>AveragePerLaunch</th>\n",
       "        </tr>\n",
       "    </thead>\n",
       "    <tbody>\n",
       "        <tr>\n",
       "            <td>SpaceX</td>\n",
       "            <td>1056458.2908163266</td>\n",
       "            <td>68</td>\n",
       "            <td>15536.151335534216</td>\n",
       "        </tr>\n",
       "        <tr>\n",
       "            <td>SpaceX/Spaceflight</td>\n",
       "            <td>45432.0</td>\n",
       "            <td>3</td>\n",
       "            <td>15144.0</td>\n",
       "        </tr>\n",
       "        <tr>\n",
       "            <td>SpaceX/Planet Labs</td>\n",
       "            <td>30850.0</td>\n",
       "            <td>2</td>\n",
       "            <td>15425.0</td>\n",
       "        </tr>\n",
       "        <tr>\n",
       "            <td>SpaceX/D-Orbit</td>\n",
       "            <td>15200.0</td>\n",
       "            <td>1</td>\n",
       "            <td>15200.0</td>\n",
       "        </tr>\n",
       "        <tr>\n",
       "            <td>SpaceX/Capella Space/Tyvak</td>\n",
       "            <td>14000.0</td>\n",
       "            <td>1</td>\n",
       "            <td>14000.0</td>\n",
       "        </tr>\n",
       "        <tr>\n",
       "            <td>SpaceX/AST SpaceMobile</td>\n",
       "            <td>11938.0</td>\n",
       "            <td>1</td>\n",
       "            <td>11938.0</td>\n",
       "        </tr>\n",
       "        <tr>\n",
       "            <td>Hisdesat/exactEarth/SpaceX</td>\n",
       "            <td>2150.0</td>\n",
       "            <td>1</td>\n",
       "            <td>2150.0</td>\n",
       "        </tr>\n",
       "    </tbody>\n",
       "</table>"
      ],
      "text/plain": [
       "[('SpaceX', 1056458.2908163266, 68, 15536.151335534216),\n",
       " ('SpaceX/Spaceflight', 45432.0, 3, 15144.0),\n",
       " ('SpaceX/Planet Labs', 30850.0, 2, 15425.0),\n",
       " ('SpaceX/D-Orbit', 15200.0, 1, 15200.0),\n",
       " ('SpaceX/Capella Space/Tyvak', 14000.0, 1, 14000.0),\n",
       " ('SpaceX/AST SpaceMobile', 11938.0, 1, 11938.0),\n",
       " ('Hisdesat/exactEarth/SpaceX', 2150.0, 1, 2150.0)]"
      ]
     },
     "execution_count": 97,
     "metadata": {},
     "output_type": "execute_result"
    }
   ],
   "source": [
    "%%sql \n",
    "select customer, sum(payloadmass) as TotalPayloadMass, count(customer) as LaunchTotal, avg(payloadmass) as AveragePerLaunch\n",
    "from spacexlaunch\n",
    "where customer like '%SpaceX%'\n",
    "group by customer\n",
    "order by TotalPayloadMass desc"
   ]
  },
  {
   "cell_type": "code",
   "execution_count": 98,
   "metadata": {},
   "outputs": [
    {
     "name": "stdout",
     "output_type": "stream",
     "text": [
      " * sqlite:///SpaceX.db\n",
      "Done.\n"
     ]
    },
    {
     "data": {
      "text/html": [
       "<table>\n",
       "    <thead>\n",
       "        <tr>\n",
       "            <th>Orbit</th>\n",
       "            <th>Landingstatus</th>\n",
       "            <th>TotalFlights</th>\n",
       "        </tr>\n",
       "    </thead>\n",
       "    <tbody>\n",
       "        <tr>\n",
       "            <td>LEO</td>\n",
       "            <td>1</td>\n",
       "            <td>68</td>\n",
       "        </tr>\n",
       "        <tr>\n",
       "            <td>LEO</td>\n",
       "            <td>0</td>\n",
       "            <td>4</td>\n",
       "        </tr>\n",
       "        <tr>\n",
       "            <td>SSO</td>\n",
       "            <td>1</td>\n",
       "            <td>4</td>\n",
       "        </tr>\n",
       "        <tr>\n",
       "            <td>SSO</td>\n",
       "            <td>0</td>\n",
       "            <td>1</td>\n",
       "        </tr>\n",
       "    </tbody>\n",
       "</table>"
      ],
      "text/plain": [
       "[('LEO', 1, 68), ('LEO', 0, 4), ('SSO', 1, 4), ('SSO', 0, 1)]"
      ]
     },
     "execution_count": 98,
     "metadata": {},
     "output_type": "execute_result"
    }
   ],
   "source": [
    "%%sql \n",
    "select orbit, landingstatus, count(orbit) as TotalFlights\n",
    "from spacexlaunch\n",
    "where customer like '%SpaceX%'\n",
    "group by orbit, landingstatus\n",
    "order by TotalFlights desc"
   ]
  },
  {
   "cell_type": "code",
   "execution_count": 99,
   "metadata": {},
   "outputs": [
    {
     "name": "stdout",
     "output_type": "stream",
     "text": [
      " * sqlite:///SpaceX.db\n",
      "Done.\n"
     ]
    },
    {
     "data": {
      "text/html": [
       "<table>\n",
       "    <thead>\n",
       "        <tr>\n",
       "            <th>Customer</th>\n",
       "            <th>Orbit</th>\n",
       "            <th>TotalPayloadMass</th>\n",
       "            <th>LaunchTotal</th>\n",
       "            <th>AveragePerLaunch</th>\n",
       "        </tr>\n",
       "    </thead>\n",
       "    <tbody>\n",
       "        <tr>\n",
       "            <td>Iridium Communications</td>\n",
       "            <td>PO</td>\n",
       "            <td>57600.0</td>\n",
       "            <td>6</td>\n",
       "            <td>9600.0</td>\n",
       "        </tr>\n",
       "        <tr>\n",
       "            <td>SES</td>\n",
       "            <td>GTO</td>\n",
       "            <td>26855.0</td>\n",
       "            <td>6</td>\n",
       "            <td>4475.833333333333</td>\n",
       "        </tr>\n",
       "        <tr>\n",
       "            <td>Iridium Communications</td>\n",
       "            <td>LEO</td>\n",
       "            <td>9600.0</td>\n",
       "            <td>1</td>\n",
       "            <td>9600.0</td>\n",
       "        </tr>\n",
       "        <tr>\n",
       "            <td>Iridium Communications/GFZ/NASA</td>\n",
       "            <td>PO</td>\n",
       "            <td>6460.0</td>\n",
       "            <td>1</td>\n",
       "            <td>6460.0</td>\n",
       "        </tr>\n",
       "        <tr>\n",
       "            <td>SES/EchoStar</td>\n",
       "            <td>GTO</td>\n",
       "            <td>5400.0</td>\n",
       "            <td>1</td>\n",
       "            <td>5400.0</td>\n",
       "        </tr>\n",
       "        <tr>\n",
       "            <td>SES</td>\n",
       "            <td>MEO</td>\n",
       "            <td>4100.0</td>\n",
       "            <td>1</td>\n",
       "            <td>4100.0</td>\n",
       "        </tr>\n",
       "    </tbody>\n",
       "</table>"
      ],
      "text/plain": [
       "[('Iridium Communications', 'PO', 57600.0, 6, 9600.0),\n",
       " ('SES', 'GTO', 26855.0, 6, 4475.833333333333),\n",
       " ('Iridium Communications', 'LEO', 9600.0, 1, 9600.0),\n",
       " ('Iridium Communications/GFZ/NASA', 'PO', 6460.0, 1, 6460.0),\n",
       " ('SES/EchoStar', 'GTO', 5400.0, 1, 5400.0),\n",
       " ('SES', 'MEO', 4100.0, 1, 4100.0)]"
      ]
     },
     "execution_count": 99,
     "metadata": {},
     "output_type": "execute_result"
    }
   ],
   "source": [
    "%%sql \n",
    "select customer, orbit, sum(payloadmass) as TotalPayloadMass, count(customer) as LaunchTotal, avg(payloadmass) as AveragePerLaunch\n",
    "from spacexlaunch\n",
    "where customer like '%Iridium Communications%' or customer like '%SES%'\n",
    "group by customer, orbit\n",
    "order by TotalPayloadMass desc"
   ]
  },
  {
   "attachments": {},
   "cell_type": "markdown",
   "metadata": {},
   "source": [
    "3. How many booster does SpaceX have? Which booster has the highest average payload?\n",
    "\n",
    "* Falcon 9 Block 5 have total 152 flights, the most active one in Falcon 9 rocket family, F9 B5 also can carry from 325 kgs to 17400 kgs payload mass which has highest average payload mass is 10625 kgs\n",
    "\n",
    "* F9 v1.0 & F9 v1.1 have high failure rate (100% and 80% failure), for F9 B4 & F9 FT, the success rate of theses 2 rockets are better (50% and 75% success). F9 B5 highest success rate 94%"
   ]
  },
  {
   "cell_type": "code",
   "execution_count": 100,
   "metadata": {},
   "outputs": [
    {
     "name": "stdout",
     "output_type": "stream",
     "text": [
      " * sqlite:///SpaceX.db\n",
      "Done.\n"
     ]
    },
    {
     "data": {
      "text/html": [
       "<table>\n",
       "    <thead>\n",
       "        <tr>\n",
       "            <th>BoosterVersion</th>\n",
       "            <th>MinPayloadMass</th>\n",
       "            <th>MaxPayloadMass</th>\n",
       "            <th>TotalPayloadMass</th>\n",
       "            <th>AveragePayloadMass</th>\n",
       "            <th>LaunchTotal</th>\n",
       "        </tr>\n",
       "    </thead>\n",
       "    <tbody>\n",
       "        <tr>\n",
       "            <td>F9 B5</td>\n",
       "            <td>325.0</td>\n",
       "            <td>17400.0</td>\n",
       "            <td>1615075.3265306123</td>\n",
       "            <td>10625.495569280343</td>\n",
       "            <td>152</td>\n",
       "        </tr>\n",
       "        <tr>\n",
       "            <td>F9 v1.0</td>\n",
       "            <td>525.0</td>\n",
       "            <td>8933.290816326531</td>\n",
       "            <td>27968.581632653062</td>\n",
       "            <td>5593.716326530613</td>\n",
       "            <td>5</td>\n",
       "        </tr>\n",
       "        <tr>\n",
       "            <td>F9 B4</td>\n",
       "            <td>362.0</td>\n",
       "            <td>9600.0</td>\n",
       "            <td>63575.29081632653</td>\n",
       "            <td>5297.940901360545</td>\n",
       "            <td>12</td>\n",
       "        </tr>\n",
       "        <tr>\n",
       "            <td>F9 FT</td>\n",
       "            <td>475.0</td>\n",
       "            <td>9600.0</td>\n",
       "            <td>113485.29081632654</td>\n",
       "            <td>4728.553784013606</td>\n",
       "            <td>24</td>\n",
       "        </tr>\n",
       "        <tr>\n",
       "            <td>F9 v1.1</td>\n",
       "            <td>500.0</td>\n",
       "            <td>4707.0</td>\n",
       "            <td>38020.0</td>\n",
       "            <td>2534.6666666666665</td>\n",
       "            <td>15</td>\n",
       "        </tr>\n",
       "    </tbody>\n",
       "</table>"
      ],
      "text/plain": [
       "[('F9 B5', 325.0, 17400.0, 1615075.3265306123, 10625.495569280343, 152),\n",
       " ('F9 v1.0', 525.0, 8933.290816326531, 27968.581632653062, 5593.716326530613, 5),\n",
       " ('F9 B4', 362.0, 9600.0, 63575.29081632653, 5297.940901360545, 12),\n",
       " ('F9 FT', 475.0, 9600.0, 113485.29081632654, 4728.553784013606, 24),\n",
       " ('F9 v1.1', 500.0, 4707.0, 38020.0, 2534.6666666666665, 15)]"
      ]
     },
     "execution_count": 100,
     "metadata": {},
     "output_type": "execute_result"
    }
   ],
   "source": [
    "%%sql \n",
    "select boosterversion, \n",
    "        min(payloadmass) as MinPayloadMass,\n",
    "        max(payloadmass) as MaxPayloadMass, \n",
    "        sum(payloadmass) as TotalPayloadMass, \n",
    "        avg(payloadmass) as AveragePayloadMass, \n",
    "        count(boosterversion) as LaunchTotal\n",
    "from spacexlaunch\n",
    "group by boosterversion\n",
    "order by AveragePayloadMass desc"
   ]
  },
  {
   "cell_type": "code",
   "execution_count": 101,
   "metadata": {},
   "outputs": [
    {
     "name": "stdout",
     "output_type": "stream",
     "text": [
      " * sqlite:///SpaceX.db\n",
      "Done.\n"
     ]
    },
    {
     "data": {
      "text/html": [
       "<table>\n",
       "    <thead>\n",
       "        <tr>\n",
       "            <th>BoosterVersion</th>\n",
       "            <th>Landingstatus</th>\n",
       "            <th>TotalFlights</th>\n",
       "        </tr>\n",
       "    </thead>\n",
       "    <tbody>\n",
       "        <tr>\n",
       "            <td>F9 B4</td>\n",
       "            <td>0</td>\n",
       "            <td>6</td>\n",
       "        </tr>\n",
       "        <tr>\n",
       "            <td>F9 B4</td>\n",
       "            <td>1</td>\n",
       "            <td>6</td>\n",
       "        </tr>\n",
       "        <tr>\n",
       "            <td>F9 B5</td>\n",
       "            <td>0</td>\n",
       "            <td>9</td>\n",
       "        </tr>\n",
       "        <tr>\n",
       "            <td>F9 B5</td>\n",
       "            <td>1</td>\n",
       "            <td>143</td>\n",
       "        </tr>\n",
       "        <tr>\n",
       "            <td>F9 FT</td>\n",
       "            <td>0</td>\n",
       "            <td>6</td>\n",
       "        </tr>\n",
       "        <tr>\n",
       "            <td>F9 FT</td>\n",
       "            <td>1</td>\n",
       "            <td>18</td>\n",
       "        </tr>\n",
       "        <tr>\n",
       "            <td>F9 v1.0</td>\n",
       "            <td>0</td>\n",
       "            <td>5</td>\n",
       "        </tr>\n",
       "        <tr>\n",
       "            <td>F9 v1.1</td>\n",
       "            <td>0</td>\n",
       "            <td>12</td>\n",
       "        </tr>\n",
       "        <tr>\n",
       "            <td>F9 v1.1</td>\n",
       "            <td>1</td>\n",
       "            <td>3</td>\n",
       "        </tr>\n",
       "    </tbody>\n",
       "</table>"
      ],
      "text/plain": [
       "[('F9 B4', 0, 6),\n",
       " ('F9 B4', 1, 6),\n",
       " ('F9 B5', 0, 9),\n",
       " ('F9 B5', 1, 143),\n",
       " ('F9 FT', 0, 6),\n",
       " ('F9 FT', 1, 18),\n",
       " ('F9 v1.0', 0, 5),\n",
       " ('F9 v1.1', 0, 12),\n",
       " ('F9 v1.1', 1, 3)]"
      ]
     },
     "execution_count": 101,
     "metadata": {},
     "output_type": "execute_result"
    }
   ],
   "source": [
    "%%sql\n",
    "select boosterversion, landingstatus, count(boosterversion) as TotalFlights\n",
    "from spacexlaunch\n",
    "group by boosterversion, landingstatus"
   ]
  },
  {
   "attachments": {},
   "cell_type": "markdown",
   "metadata": {},
   "source": [
    "4. How many type of booster landing?\n",
    "\n",
    "* A controlled ocean landing means the ocean test controlled descent, for the sole purpose of gathering test data, such boosters were destroyed at sea. Controlled means success test, soft vertical ocean touchdown. Uncontrolled means failure test, ocean touchdown control failed.\n",
    "\n",
    "* Drone ship: land on a drone ship at sea\n",
    "\n",
    "* Ground pad: land on a ground pad near the launch site\n",
    "\n",
    "* Failure parachute: attempt to recover the first stage by parachuting it into the ocean but fail\n",
    "\n",
    "* The first success date of ground pad is 2015-12-22, dron ship is 2016-04-08, and ocean is 2014-04-18\n",
    "\n",
    "* Success droneship & groundpad is B5, B4, FT, success ocean focus on FT, v1.1"
   ]
  },
  {
   "cell_type": "code",
   "execution_count": 103,
   "metadata": {},
   "outputs": [
    {
     "name": "stdout",
     "output_type": "stream",
     "text": [
      " * sqlite:///SpaceX.db\n",
      "Done.\n"
     ]
    },
    {
     "data": {
      "text/html": [
       "<table>\n",
       "    <thead>\n",
       "        <tr>\n",
       "            <th>Boosterlanding</th>\n",
       "            <th>LaunchTotal</th>\n",
       "        </tr>\n",
       "    </thead>\n",
       "    <tbody>\n",
       "        <tr>\n",
       "            <td>Controlled(ocean)</td>\n",
       "            <td>5</td>\n",
       "        </tr>\n",
       "        <tr>\n",
       "            <td>Failure(drone ship)</td>\n",
       "            <td>8</td>\n",
       "        </tr>\n",
       "        <tr>\n",
       "            <td>Failure(ground pad)</td>\n",
       "            <td>1</td>\n",
       "        </tr>\n",
       "        <tr>\n",
       "            <td>Failure(parachute)</td>\n",
       "            <td>2</td>\n",
       "        </tr>\n",
       "        <tr>\n",
       "            <td>No attempt</td>\n",
       "            <td>24</td>\n",
       "        </tr>\n",
       "        <tr>\n",
       "            <td>Precluded(drone ship)</td>\n",
       "            <td>1</td>\n",
       "        </tr>\n",
       "        <tr>\n",
       "            <td>Success(drone ship)</td>\n",
       "            <td>136</td>\n",
       "        </tr>\n",
       "        <tr>\n",
       "            <td>Success(ground pad)</td>\n",
       "            <td>29</td>\n",
       "        </tr>\n",
       "        <tr>\n",
       "            <td>Uncontrolled(ocean)</td>\n",
       "            <td>2</td>\n",
       "        </tr>\n",
       "    </tbody>\n",
       "</table>"
      ],
      "text/plain": [
       "[('Controlled(ocean)', 5),\n",
       " ('Failure(drone ship)', 8),\n",
       " ('Failure(ground pad)', 1),\n",
       " ('Failure(parachute)', 2),\n",
       " ('No attempt', 24),\n",
       " ('Precluded(drone ship)', 1),\n",
       " ('Success(drone ship)', 136),\n",
       " ('Success(ground pad)', 29),\n",
       " ('Uncontrolled(ocean)', 2)]"
      ]
     },
     "execution_count": 103,
     "metadata": {},
     "output_type": "execute_result"
    }
   ],
   "source": [
    "%%sql\n",
    "select boosterlanding, count(boosterlanding) as LaunchTotal\n",
    "from spacexlaunch\n",
    "group by boosterlanding"
   ]
  },
  {
   "cell_type": "code",
   "execution_count": 102,
   "metadata": {},
   "outputs": [
    {
     "name": "stdout",
     "output_type": "stream",
     "text": [
      " * sqlite:///SpaceX.db\n",
      "Done.\n"
     ]
    },
    {
     "data": {
      "text/html": [
       "<table>\n",
       "    <thead>\n",
       "        <tr>\n",
       "            <th>Boosterlanding</th>\n",
       "            <th>FirstSuccessDate</th>\n",
       "        </tr>\n",
       "    </thead>\n",
       "    <tbody>\n",
       "        <tr>\n",
       "            <td>Success(ground pad)</td>\n",
       "            <td>2015-12-22</td>\n",
       "        </tr>\n",
       "    </tbody>\n",
       "</table>"
      ],
      "text/plain": [
       "[('Success(ground pad)', '2015-12-22')]"
      ]
     },
     "execution_count": 102,
     "metadata": {},
     "output_type": "execute_result"
    }
   ],
   "source": [
    "%%sql\n",
    "select boosterlanding, min(\"Dateandtime(UTC)\") as FirstSuccessDate\n",
    "from spacexlaunch\n",
    "where boosterlanding = \"Success(ground pad)\""
   ]
  },
  {
   "cell_type": "code",
   "execution_count": 104,
   "metadata": {},
   "outputs": [
    {
     "name": "stdout",
     "output_type": "stream",
     "text": [
      " * sqlite:///SpaceX.db\n",
      "Done.\n"
     ]
    },
    {
     "data": {
      "text/html": [
       "<table>\n",
       "    <thead>\n",
       "        <tr>\n",
       "            <th>Boosterlanding</th>\n",
       "            <th>FirstSuccessDate</th>\n",
       "        </tr>\n",
       "    </thead>\n",
       "    <tbody>\n",
       "        <tr>\n",
       "            <td>Success(drone ship)</td>\n",
       "            <td>2016-04-08</td>\n",
       "        </tr>\n",
       "    </tbody>\n",
       "</table>"
      ],
      "text/plain": [
       "[('Success(drone ship)', '2016-04-08')]"
      ]
     },
     "execution_count": 104,
     "metadata": {},
     "output_type": "execute_result"
    }
   ],
   "source": [
    "%%sql\n",
    "select boosterlanding, min(\"Dateandtime(UTC)\") as FirstSuccessDate\n",
    "from spacexlaunch\n",
    "where boosterlanding = \"Success(drone ship)\""
   ]
  },
  {
   "cell_type": "code",
   "execution_count": 105,
   "metadata": {},
   "outputs": [
    {
     "name": "stdout",
     "output_type": "stream",
     "text": [
      " * sqlite:///SpaceX.db\n",
      "Done.\n"
     ]
    },
    {
     "data": {
      "text/html": [
       "<table>\n",
       "    <thead>\n",
       "        <tr>\n",
       "            <th>Boosterlanding</th>\n",
       "            <th>FirstSuccessDate</th>\n",
       "        </tr>\n",
       "    </thead>\n",
       "    <tbody>\n",
       "        <tr>\n",
       "            <td>Controlled(ocean)</td>\n",
       "            <td>2014-04-18</td>\n",
       "        </tr>\n",
       "    </tbody>\n",
       "</table>"
      ],
      "text/plain": [
       "[('Controlled(ocean)', '2014-04-18')]"
      ]
     },
     "execution_count": 105,
     "metadata": {},
     "output_type": "execute_result"
    }
   ],
   "source": [
    "%%sql\n",
    "select boosterlanding, min(\"Dateandtime(UTC)\") as FirstSuccessDate\n",
    "from spacexlaunch\n",
    "where boosterlanding = \"Controlled(ocean)\""
   ]
  },
  {
   "cell_type": "code",
   "execution_count": 108,
   "metadata": {},
   "outputs": [
    {
     "name": "stdout",
     "output_type": "stream",
     "text": [
      " * sqlite:///SpaceX.db\n",
      "Done.\n"
     ]
    },
    {
     "data": {
      "text/html": [
       "<table>\n",
       "    <thead>\n",
       "        <tr>\n",
       "            <th>BoosterVersion</th>\n",
       "            <th>TotalSuccess</th>\n",
       "        </tr>\n",
       "    </thead>\n",
       "    <tbody>\n",
       "        <tr>\n",
       "            <td>F9 B5</td>\n",
       "            <td>20</td>\n",
       "        </tr>\n",
       "        <tr>\n",
       "            <td>F9 FT</td>\n",
       "            <td>6</td>\n",
       "        </tr>\n",
       "        <tr>\n",
       "            <td>F9 B4</td>\n",
       "            <td>3</td>\n",
       "        </tr>\n",
       "    </tbody>\n",
       "</table>"
      ],
      "text/plain": [
       "[('F9 B5', 20), ('F9 FT', 6), ('F9 B4', 3)]"
      ]
     },
     "execution_count": 108,
     "metadata": {},
     "output_type": "execute_result"
    }
   ],
   "source": [
    "%%sql\n",
    "select boosterversion, count(boosterversion) as TotalSuccess\n",
    "from spacexlaunch\n",
    "where boosterlanding = \"Success(ground pad)\"\n",
    "group by boosterversion\n",
    "order by TotalSuccess desc"
   ]
  },
  {
   "cell_type": "code",
   "execution_count": 109,
   "metadata": {},
   "outputs": [
    {
     "name": "stdout",
     "output_type": "stream",
     "text": [
      " * sqlite:///SpaceX.db\n",
      "Done.\n"
     ]
    },
    {
     "data": {
      "text/html": [
       "<table>\n",
       "    <thead>\n",
       "        <tr>\n",
       "            <th>BoosterVersion</th>\n",
       "            <th>TotalSuccess</th>\n",
       "        </tr>\n",
       "    </thead>\n",
       "    <tbody>\n",
       "        <tr>\n",
       "            <td>F9 B5</td>\n",
       "            <td>123</td>\n",
       "        </tr>\n",
       "        <tr>\n",
       "            <td>F9 FT</td>\n",
       "            <td>10</td>\n",
       "        </tr>\n",
       "        <tr>\n",
       "            <td>F9 B4</td>\n",
       "            <td>3</td>\n",
       "        </tr>\n",
       "    </tbody>\n",
       "</table>"
      ],
      "text/plain": [
       "[('F9 B5', 123), ('F9 FT', 10), ('F9 B4', 3)]"
      ]
     },
     "execution_count": 109,
     "metadata": {},
     "output_type": "execute_result"
    }
   ],
   "source": [
    "%%sql\n",
    "select boosterversion, count(boosterversion) as TotalSuccess\n",
    "from spacexlaunch\n",
    "where boosterlanding = \"Success(drone ship)\"\n",
    "group by boosterversion\n",
    "order by TotalSuccess desc"
   ]
  },
  {
   "cell_type": "code",
   "execution_count": 110,
   "metadata": {},
   "outputs": [
    {
     "name": "stdout",
     "output_type": "stream",
     "text": [
      " * sqlite:///SpaceX.db\n",
      "Done.\n"
     ]
    },
    {
     "data": {
      "text/html": [
       "<table>\n",
       "    <thead>\n",
       "        <tr>\n",
       "            <th>BoosterVersion</th>\n",
       "            <th>TotalSuccess</th>\n",
       "        </tr>\n",
       "    </thead>\n",
       "    <tbody>\n",
       "        <tr>\n",
       "            <td>F9 v1.1</td>\n",
       "            <td>3</td>\n",
       "        </tr>\n",
       "        <tr>\n",
       "            <td>F9 FT</td>\n",
       "            <td>2</td>\n",
       "        </tr>\n",
       "    </tbody>\n",
       "</table>"
      ],
      "text/plain": [
       "[('F9 v1.1', 3), ('F9 FT', 2)]"
      ]
     },
     "execution_count": 110,
     "metadata": {},
     "output_type": "execute_result"
    }
   ],
   "source": [
    "%%sql\n",
    "select boosterversion, count(boosterversion) as TotalSuccess\n",
    "from spacexlaunch\n",
    "where boosterlanding = \"Controlled(ocean)\"\n",
    "group by boosterversion\n",
    "order by TotalSuccess desc"
   ]
  },
  {
   "attachments": {},
   "cell_type": "markdown",
   "metadata": {},
   "source": [
    "5. 2022 launches\n",
    "\n",
    "* In 2022, SpaceX landing site focuses CCSFS accounted for 50% flights (30/60), KSC has 17, VSFB has 13 flights. SpaceX maintain each month launch from 4 to 6 flights, December reaches the highest number of launches in year 7 flights in a month\n",
    "\n",
    "* Falcon 9 Block 5 first stage landing success almost the time, there is 2 no attempt flights in November but is recorded as success on wiki\n",
    "\n",
    "* Last year SpaceX focuses on LEO, SSO, GTO"
   ]
  },
  {
   "cell_type": "code",
   "execution_count": 119,
   "metadata": {},
   "outputs": [
    {
     "name": "stdout",
     "output_type": "stream",
     "text": [
      " * sqlite:///SpaceX.db\n",
      "Done.\n"
     ]
    },
    {
     "data": {
      "text/html": [
       "<table>\n",
       "    <thead>\n",
       "        <tr>\n",
       "            <th>month</th>\n",
       "            <th>Launchsite</th>\n",
       "            <th>TotalFlights</th>\n",
       "        </tr>\n",
       "    </thead>\n",
       "    <tbody>\n",
       "        <tr>\n",
       "            <td>01</td>\n",
       "            <td>CCSFS SLC-40</td>\n",
       "            <td>2</td>\n",
       "        </tr>\n",
       "        <tr>\n",
       "            <td>01</td>\n",
       "            <td>KSC LC-39A</td>\n",
       "            <td>2</td>\n",
       "        </tr>\n",
       "        <tr>\n",
       "            <td>02</td>\n",
       "            <td>CCSFS SLC-40</td>\n",
       "            <td>1</td>\n",
       "        </tr>\n",
       "        <tr>\n",
       "            <td>02</td>\n",
       "            <td>KSC LC-39A</td>\n",
       "            <td>1</td>\n",
       "        </tr>\n",
       "        <tr>\n",
       "            <td>02</td>\n",
       "            <td>VSFB SLC-4E</td>\n",
       "            <td>2</td>\n",
       "        </tr>\n",
       "        <tr>\n",
       "            <td>03</td>\n",
       "            <td>CCSFS SLC-40</td>\n",
       "            <td>2</td>\n",
       "        </tr>\n",
       "        <tr>\n",
       "            <td>03</td>\n",
       "            <td>KSC LC-39A</td>\n",
       "            <td>1</td>\n",
       "        </tr>\n",
       "        <tr>\n",
       "            <td>04</td>\n",
       "            <td>CCSFS SLC-40</td>\n",
       "            <td>3</td>\n",
       "        </tr>\n",
       "        <tr>\n",
       "            <td>04</td>\n",
       "            <td>KSC LC-39A</td>\n",
       "            <td>2</td>\n",
       "        </tr>\n",
       "        <tr>\n",
       "            <td>04</td>\n",
       "            <td>VSFB SLC-4E</td>\n",
       "            <td>1</td>\n",
       "        </tr>\n",
       "        <tr>\n",
       "            <td>05</td>\n",
       "            <td>CCSFS SLC-40</td>\n",
       "            <td>2</td>\n",
       "        </tr>\n",
       "        <tr>\n",
       "            <td>05</td>\n",
       "            <td>KSC LC-39A</td>\n",
       "            <td>2</td>\n",
       "        </tr>\n",
       "        <tr>\n",
       "            <td>05</td>\n",
       "            <td>VSFB SLC-4E</td>\n",
       "            <td>1</td>\n",
       "        </tr>\n",
       "        <tr>\n",
       "            <td>06</td>\n",
       "            <td>CCSFS SLC-40</td>\n",
       "            <td>3</td>\n",
       "        </tr>\n",
       "        <tr>\n",
       "            <td>06</td>\n",
       "            <td>KSC LC-39A</td>\n",
       "            <td>1</td>\n",
       "        </tr>\n",
       "        <tr>\n",
       "            <td>06</td>\n",
       "            <td>VSFB SLC-4E</td>\n",
       "            <td>1</td>\n",
       "        </tr>\n",
       "        <tr>\n",
       "            <td>07</td>\n",
       "            <td>CCSFS SLC-40</td>\n",
       "            <td>2</td>\n",
       "        </tr>\n",
       "        <tr>\n",
       "            <td>07</td>\n",
       "            <td>KSC LC-39A</td>\n",
       "            <td>2</td>\n",
       "        </tr>\n",
       "        <tr>\n",
       "            <td>07</td>\n",
       "            <td>VSFB SLC-4E</td>\n",
       "            <td>2</td>\n",
       "        </tr>\n",
       "        <tr>\n",
       "            <td>08</td>\n",
       "            <td>CCSFS SLC-40</td>\n",
       "            <td>3</td>\n",
       "        </tr>\n",
       "        <tr>\n",
       "            <td>08</td>\n",
       "            <td>KSC LC-39A</td>\n",
       "            <td>1</td>\n",
       "        </tr>\n",
       "        <tr>\n",
       "            <td>08</td>\n",
       "            <td>VSFB SLC-4E</td>\n",
       "            <td>2</td>\n",
       "        </tr>\n",
       "        <tr>\n",
       "            <td>09</td>\n",
       "            <td>CCSFS SLC-40</td>\n",
       "            <td>3</td>\n",
       "        </tr>\n",
       "        <tr>\n",
       "            <td>09</td>\n",
       "            <td>KSC LC-39A</td>\n",
       "            <td>1</td>\n",
       "        </tr>\n",
       "        <tr>\n",
       "            <td>10</td>\n",
       "            <td>CCSFS SLC-40</td>\n",
       "            <td>3</td>\n",
       "        </tr>\n",
       "        <tr>\n",
       "            <td>10</td>\n",
       "            <td>KSC LC-39A</td>\n",
       "            <td>1</td>\n",
       "        </tr>\n",
       "        <tr>\n",
       "            <td>10</td>\n",
       "            <td>VSFB SLC-4E</td>\n",
       "            <td>2</td>\n",
       "        </tr>\n",
       "        <tr>\n",
       "            <td>11</td>\n",
       "            <td>CCSFS SLC-40</td>\n",
       "            <td>3</td>\n",
       "        </tr>\n",
       "        <tr>\n",
       "            <td>11</td>\n",
       "            <td>KSC LC-39A</td>\n",
       "            <td>1</td>\n",
       "        </tr>\n",
       "        <tr>\n",
       "            <td>12</td>\n",
       "            <td>CCSFS SLC-40</td>\n",
       "            <td>3</td>\n",
       "        </tr>\n",
       "        <tr>\n",
       "            <td>12</td>\n",
       "            <td>KSC LC-39A</td>\n",
       "            <td>2</td>\n",
       "        </tr>\n",
       "        <tr>\n",
       "            <td>12</td>\n",
       "            <td>VSFB SLC-4E</td>\n",
       "            <td>2</td>\n",
       "        </tr>\n",
       "    </tbody>\n",
       "</table>"
      ],
      "text/plain": [
       "[('01', 'CCSFS SLC-40', 2),\n",
       " ('01', 'KSC LC-39A', 2),\n",
       " ('02', 'CCSFS SLC-40', 1),\n",
       " ('02', 'KSC LC-39A', 1),\n",
       " ('02', 'VSFB SLC-4E', 2),\n",
       " ('03', 'CCSFS SLC-40', 2),\n",
       " ('03', 'KSC LC-39A', 1),\n",
       " ('04', 'CCSFS SLC-40', 3),\n",
       " ('04', 'KSC LC-39A', 2),\n",
       " ('04', 'VSFB SLC-4E', 1),\n",
       " ('05', 'CCSFS SLC-40', 2),\n",
       " ('05', 'KSC LC-39A', 2),\n",
       " ('05', 'VSFB SLC-4E', 1),\n",
       " ('06', 'CCSFS SLC-40', 3),\n",
       " ('06', 'KSC LC-39A', 1),\n",
       " ('06', 'VSFB SLC-4E', 1),\n",
       " ('07', 'CCSFS SLC-40', 2),\n",
       " ('07', 'KSC LC-39A', 2),\n",
       " ('07', 'VSFB SLC-4E', 2),\n",
       " ('08', 'CCSFS SLC-40', 3),\n",
       " ('08', 'KSC LC-39A', 1),\n",
       " ('08', 'VSFB SLC-4E', 2),\n",
       " ('09', 'CCSFS SLC-40', 3),\n",
       " ('09', 'KSC LC-39A', 1),\n",
       " ('10', 'CCSFS SLC-40', 3),\n",
       " ('10', 'KSC LC-39A', 1),\n",
       " ('10', 'VSFB SLC-4E', 2),\n",
       " ('11', 'CCSFS SLC-40', 3),\n",
       " ('11', 'KSC LC-39A', 1),\n",
       " ('12', 'CCSFS SLC-40', 3),\n",
       " ('12', 'KSC LC-39A', 2),\n",
       " ('12', 'VSFB SLC-4E', 2)]"
      ]
     },
     "execution_count": 119,
     "metadata": {},
     "output_type": "execute_result"
    }
   ],
   "source": [
    "%%sql \n",
    "select substr(\"Dateandtime(UTC)\", 6, 2) as month, launchsite, count(launchsite) as TotalFlights\n",
    "from spacexlaunch\n",
    "where substr(\"Dateandtime(UTC)\", 1, 4) = '2022'\n",
    "group by month, launchsite"
   ]
  },
  {
   "cell_type": "code",
   "execution_count": 120,
   "metadata": {},
   "outputs": [
    {
     "name": "stdout",
     "output_type": "stream",
     "text": [
      " * sqlite:///SpaceX.db\n",
      "Done.\n"
     ]
    },
    {
     "data": {
      "text/html": [
       "<table>\n",
       "    <thead>\n",
       "        <tr>\n",
       "            <th>month</th>\n",
       "            <th>Landingstatus</th>\n",
       "            <th>TotalFlights</th>\n",
       "        </tr>\n",
       "    </thead>\n",
       "    <tbody>\n",
       "        <tr>\n",
       "            <td>01</td>\n",
       "            <td>1</td>\n",
       "            <td>4</td>\n",
       "        </tr>\n",
       "        <tr>\n",
       "            <td>02</td>\n",
       "            <td>1</td>\n",
       "            <td>4</td>\n",
       "        </tr>\n",
       "        <tr>\n",
       "            <td>03</td>\n",
       "            <td>1</td>\n",
       "            <td>3</td>\n",
       "        </tr>\n",
       "        <tr>\n",
       "            <td>04</td>\n",
       "            <td>1</td>\n",
       "            <td>6</td>\n",
       "        </tr>\n",
       "        <tr>\n",
       "            <td>05</td>\n",
       "            <td>1</td>\n",
       "            <td>5</td>\n",
       "        </tr>\n",
       "        <tr>\n",
       "            <td>06</td>\n",
       "            <td>1</td>\n",
       "            <td>5</td>\n",
       "        </tr>\n",
       "        <tr>\n",
       "            <td>07</td>\n",
       "            <td>1</td>\n",
       "            <td>6</td>\n",
       "        </tr>\n",
       "        <tr>\n",
       "            <td>08</td>\n",
       "            <td>1</td>\n",
       "            <td>6</td>\n",
       "        </tr>\n",
       "        <tr>\n",
       "            <td>09</td>\n",
       "            <td>1</td>\n",
       "            <td>4</td>\n",
       "        </tr>\n",
       "        <tr>\n",
       "            <td>10</td>\n",
       "            <td>1</td>\n",
       "            <td>6</td>\n",
       "        </tr>\n",
       "        <tr>\n",
       "            <td>11</td>\n",
       "            <td>0</td>\n",
       "            <td>2</td>\n",
       "        </tr>\n",
       "        <tr>\n",
       "            <td>11</td>\n",
       "            <td>1</td>\n",
       "            <td>2</td>\n",
       "        </tr>\n",
       "        <tr>\n",
       "            <td>12</td>\n",
       "            <td>1</td>\n",
       "            <td>7</td>\n",
       "        </tr>\n",
       "    </tbody>\n",
       "</table>"
      ],
      "text/plain": [
       "[('01', 1, 4),\n",
       " ('02', 1, 4),\n",
       " ('03', 1, 3),\n",
       " ('04', 1, 6),\n",
       " ('05', 1, 5),\n",
       " ('06', 1, 5),\n",
       " ('07', 1, 6),\n",
       " ('08', 1, 6),\n",
       " ('09', 1, 4),\n",
       " ('10', 1, 6),\n",
       " ('11', 0, 2),\n",
       " ('11', 1, 2),\n",
       " ('12', 1, 7)]"
      ]
     },
     "execution_count": 120,
     "metadata": {},
     "output_type": "execute_result"
    }
   ],
   "source": [
    "%%sql \n",
    "select substr(\"Dateandtime(UTC)\", 6, 2) as month, landingstatus, count(landingstatus) as TotalFlights\n",
    "from spacexlaunch\n",
    "where substr(\"Dateandtime(UTC)\", 1, 4) = '2022'\n",
    "group by month, landingstatus"
   ]
  },
  {
   "cell_type": "code",
   "execution_count": 126,
   "metadata": {},
   "outputs": [
    {
     "name": "stdout",
     "output_type": "stream",
     "text": [
      " * sqlite:///SpaceX.db\n",
      "Done.\n"
     ]
    },
    {
     "data": {
      "text/html": [
       "<table>\n",
       "    <thead>\n",
       "        <tr>\n",
       "            <th>Orbit</th>\n",
       "            <th>TotalFlights</th>\n",
       "            <th>AvgPayloadMass</th>\n",
       "        </tr>\n",
       "    </thead>\n",
       "    <tbody>\n",
       "        <tr>\n",
       "            <td>LEO</td>\n",
       "            <td>39</td>\n",
       "            <td>13548.13566195709</td>\n",
       "        </tr>\n",
       "        <tr>\n",
       "            <td>SSO</td>\n",
       "            <td>10</td>\n",
       "            <td>9843.816326530612</td>\n",
       "        </tr>\n",
       "        <tr>\n",
       "            <td>GTO</td>\n",
       "            <td>7</td>\n",
       "            <td>5150.142857142857</td>\n",
       "        </tr>\n",
       "    </tbody>\n",
       "</table>"
      ],
      "text/plain": [
       "[('LEO', 39, 13548.13566195709),\n",
       " ('SSO', 10, 9843.816326530612),\n",
       " ('GTO', 7, 5150.142857142857)]"
      ]
     },
     "execution_count": 126,
     "metadata": {},
     "output_type": "execute_result"
    }
   ],
   "source": [
    "%%sql \n",
    "select orbit, count(orbit) as TotalFlights, avg(payloadmass) as AvgPayloadMass\n",
    "from spacexlaunch\n",
    "where substr(\"Dateandtime(UTC)\", 1, 4) = '2022'\n",
    "group by orbit\n",
    "order by TotalFlights desc\n",
    "limit 3"
   ]
  }
 ],
 "metadata": {
  "kernelspec": {
   "display_name": "Python 3",
   "language": "python",
   "name": "python3"
  },
  "language_info": {
   "codemirror_mode": {
    "name": "ipython",
    "version": 3
   },
   "file_extension": ".py",
   "mimetype": "text/x-python",
   "name": "python",
   "nbconvert_exporter": "python",
   "pygments_lexer": "ipython3",
   "version": "3.9.13"
  },
  "orig_nbformat": 4,
  "vscode": {
   "interpreter": {
    "hash": "aee8b7b246df8f9039afb4144a1f6fd8d2ca17a180786b69acc140d282b71a49"
   }
  }
 },
 "nbformat": 4,
 "nbformat_minor": 2
}
