{
 "cells": [
  {
   "cell_type": "markdown",
   "metadata": {},
   "source": [
    "## Objectives: remove & fill in missing values, fix data types"
   ]
  },
  {
   "cell_type": "code",
   "execution_count": 1,
   "metadata": {},
   "outputs": [],
   "source": [
    "import pandas as pd\n",
    "import numpy as np"
   ]
  },
  {
   "cell_type": "markdown",
   "metadata": {},
   "source": [
    "1. Overview: there is missing data in payload mass, orbit, landing type, outcome, landing pad, block"
   ]
  },
  {
   "cell_type": "code",
   "execution_count": 2,
   "metadata": {},
   "outputs": [
    {
     "name": "stdout",
     "output_type": "stream",
     "text": [
      "<class 'pandas.core.frame.DataFrame'>\n",
      "RangeIndex: 187 entries, 0 to 186\n",
      "Data columns (total 22 columns):\n",
      " #   Column           Non-Null Count  Dtype  \n",
      "---  ------           --------------  -----  \n",
      " 0   Unnamed: 0       187 non-null    int64  \n",
      " 1   date             187 non-null    object \n",
      " 2   flight no        187 non-null    int64  \n",
      " 3   booster version  187 non-null    object \n",
      " 4   payload mass     162 non-null    float64\n",
      " 5   orbit            186 non-null    object \n",
      " 6   launch site      187 non-null    object \n",
      " 7   landing type     158 non-null    object \n",
      " 8   outcome          156 non-null    object \n",
      " 9   flights          187 non-null    int64  \n",
      " 10  gridfins         187 non-null    bool   \n",
      " 11  reused           187 non-null    bool   \n",
      " 12  legs             187 non-null    bool   \n",
      " 13  landing pad      151 non-null    object \n",
      " 14  block            182 non-null    float64\n",
      " 15  reused count     187 non-null    int64  \n",
      " 16  serial           187 non-null    object \n",
      " 17  longitude        187 non-null    float64\n",
      " 18  latitude         187 non-null    float64\n",
      " 19  cost per launch  187 non-null    int64  \n",
      " 20  customers        187 non-null    object \n",
      " 21  manufacterers    187 non-null    object \n",
      "dtypes: bool(3), float64(4), int64(5), object(10)\n",
      "memory usage: 28.4+ KB\n"
     ]
    }
   ],
   "source": [
    "df = pd.read_csv(\"../collecting-data/api-data.csv\")\n",
    "df.info()"
   ]
  },
  {
   "attachments": {},
   "cell_type": "markdown",
   "metadata": {},
   "source": [
    "2. Drop unnamed column, set flight no as index column"
   ]
  },
  {
   "cell_type": "code",
   "execution_count": 3,
   "metadata": {},
   "outputs": [],
   "source": [
    "df.drop(['Unnamed: 0'], inplace=True, axis=1)\n",
    "df.set_index('flight no', inplace=True)"
   ]
  },
  {
   "cell_type": "markdown",
   "metadata": {},
   "source": [
    "3. Fix the date data type to right format"
   ]
  },
  {
   "cell_type": "code",
   "execution_count": 5,
   "metadata": {},
   "outputs": [],
   "source": [
    "df['date'] = pd.to_datetime(df[\"date\"]).dt.date"
   ]
  },
  {
   "cell_type": "markdown",
   "metadata": {},
   "source": [
    "4. Handle the payload mass\n",
    "* Since we have 3 types of Falcon, each type will have the different average mass, so we will fill in according to booster version\n",
    "* Most of missing values fall into Falcon 9 and Falcon 1 miss 2 values"
   ]
  },
  {
   "cell_type": "code",
   "execution_count": 8,
   "metadata": {},
   "outputs": [
    {
     "data": {
      "text/html": [
       "<div>\n",
       "<style scoped>\n",
       "    .dataframe tbody tr th:only-of-type {\n",
       "        vertical-align: middle;\n",
       "    }\n",
       "\n",
       "    .dataframe tbody tr th {\n",
       "        vertical-align: top;\n",
       "    }\n",
       "\n",
       "    .dataframe thead th {\n",
       "        text-align: right;\n",
       "    }\n",
       "</style>\n",
       "<table border=\"1\" class=\"dataframe\">\n",
       "  <thead>\n",
       "    <tr style=\"text-align: right;\">\n",
       "      <th></th>\n",
       "      <th>count</th>\n",
       "      <th>mean</th>\n",
       "      <th>std</th>\n",
       "      <th>min</th>\n",
       "      <th>25%</th>\n",
       "      <th>50%</th>\n",
       "      <th>75%</th>\n",
       "      <th>max</th>\n",
       "    </tr>\n",
       "    <tr>\n",
       "      <th>booster version</th>\n",
       "      <th></th>\n",
       "      <th></th>\n",
       "      <th></th>\n",
       "      <th></th>\n",
       "      <th></th>\n",
       "      <th></th>\n",
       "      <th></th>\n",
       "      <th></th>\n",
       "    </tr>\n",
       "  </thead>\n",
       "  <tbody>\n",
       "    <tr>\n",
       "      <th>Falcon 1</th>\n",
       "      <td>3.0</td>\n",
       "      <td>128.333333</td>\n",
       "      <td>95.437589</td>\n",
       "      <td>20.0</td>\n",
       "      <td>92.5</td>\n",
       "      <td>165.0</td>\n",
       "      <td>182.5</td>\n",
       "      <td>200.0</td>\n",
       "    </tr>\n",
       "    <tr>\n",
       "      <th>Falcon 9</th>\n",
       "      <td>156.0</td>\n",
       "      <td>8117.574038</td>\n",
       "      <td>5545.558195</td>\n",
       "      <td>330.0</td>\n",
       "      <td>2956.5</td>\n",
       "      <td>6630.5</td>\n",
       "      <td>13260.0</td>\n",
       "      <td>15600.0</td>\n",
       "    </tr>\n",
       "    <tr>\n",
       "      <th>Falcon Heavy</th>\n",
       "      <td>3.0</td>\n",
       "      <td>2650.000000</td>\n",
       "      <td>2925.320495</td>\n",
       "      <td>600.0</td>\n",
       "      <td>975.0</td>\n",
       "      <td>1350.0</td>\n",
       "      <td>3675.0</td>\n",
       "      <td>6000.0</td>\n",
       "    </tr>\n",
       "  </tbody>\n",
       "</table>\n",
       "</div>"
      ],
      "text/plain": [
       "                 count         mean          std    min     25%     50%  \\\n",
       "booster version                                                           \n",
       "Falcon 1           3.0   128.333333    95.437589   20.0    92.5   165.0   \n",
       "Falcon 9         156.0  8117.574038  5545.558195  330.0  2956.5  6630.5   \n",
       "Falcon Heavy       3.0  2650.000000  2925.320495  600.0   975.0  1350.0   \n",
       "\n",
       "                     75%      max  \n",
       "booster version                    \n",
       "Falcon 1           182.5    200.0  \n",
       "Falcon 9         13260.0  15600.0  \n",
       "Falcon Heavy      3675.0   6000.0  "
      ]
     },
     "execution_count": 8,
     "metadata": {},
     "output_type": "execute_result"
    }
   ],
   "source": [
    "mass_bv = df.groupby(\"booster version\").describe()[\"payload mass\"]\n",
    "mass_bv"
   ]
  },
  {
   "cell_type": "code",
   "execution_count": 9,
   "metadata": {},
   "outputs": [
    {
     "name": "stderr",
     "output_type": "stream",
     "text": [
      "/var/folders/14/74g9mr9x7c7cx2_vfwl7bd400000gn/T/ipykernel_41096/2284129788.py:2: SettingWithCopyWarning: \n",
      "A value is trying to be set on a copy of a slice from a DataFrame\n",
      "\n",
      "See the caveats in the documentation: https://pandas.pydata.org/pandas-docs/stable/user_guide/indexing.html#returning-a-view-versus-a-copy\n",
      "  df['payload mass'][1] = mass_bv[\"mean\"][\"Falcon 1\"]\n",
      "/var/folders/14/74g9mr9x7c7cx2_vfwl7bd400000gn/T/ipykernel_41096/2284129788.py:3: SettingWithCopyWarning: \n",
      "A value is trying to be set on a copy of a slice from a DataFrame\n",
      "\n",
      "See the caveats in the documentation: https://pandas.pydata.org/pandas-docs/stable/user_guide/indexing.html#returning-a-view-versus-a-copy\n",
      "  df['payload mass'][2] = mass_bv[\"mean\"][\"Falcon 1\"]\n"
     ]
    }
   ],
   "source": [
    "df.loc[df['booster version'] == 'Falcon 1', ['payload mass']]\n",
    "df['payload mass'][1] = mass_bv[\"mean\"][\"Falcon 1\"]\n",
    "df['payload mass'][2] = mass_bv[\"mean\"][\"Falcon 1\"]"
   ]
  },
  {
   "cell_type": "code",
   "execution_count": 10,
   "metadata": {},
   "outputs": [],
   "source": [
    "df['payload mass'].replace(np.nan, mass_bv[\"mean\"][\"Falcon 9\"], inplace = True)"
   ]
  },
  {
   "cell_type": "markdown",
   "metadata": {},
   "source": [
    "5. Handle orbit\n",
    "* Orbit only misses 1 value on flight no 112. There is one article on tesla north about this flight information, and it told the orbit were Low Earth Orbit (LEO)\n",
    "* Click here to the article <a href=\"https://teslanorth.com/2022/02/03/spacex-falcon-9-rocket-makes-history-112-successful-flights-in-a-row/\"> Space X Falcon 9 rocket makes history 112 successful</a>"
   ]
  },
  {
   "cell_type": "code",
   "execution_count": 12,
   "metadata": {},
   "outputs": [],
   "source": [
    "df['orbit'].replace(np.nan, \"LEO\", inplace=True)"
   ]
  },
  {
   "cell_type": "markdown",
   "metadata": {},
   "source": [
    "6. Handle outcome\n",
    "* Most of missing outcome fall into initial launches, which has high rate of failure, so change missing one to False"
   ]
  },
  {
   "cell_type": "code",
   "execution_count": 13,
   "metadata": {},
   "outputs": [],
   "source": [
    "df['outcome'].replace(np.nan, False, inplace=True)"
   ]
  },
  {
   "attachments": {},
   "cell_type": "markdown",
   "metadata": {},
   "source": [
    "7. Handle landing  & landing type\n",
    "* There is lots of missing value in Falcon 1, also the number launches of Falcon Heavy and Falcon 1 is small (3 & 5), so remove it from dataframe"
   ]
  },
  {
   "cell_type": "code",
   "execution_count": 19,
   "metadata": {},
   "outputs": [],
   "source": [
    "df = df[df['booster version'] == 'Falcon 9']"
   ]
  },
  {
   "cell_type": "markdown",
   "metadata": {},
   "source": [
    "8. Handle structure of customers & manufacterers"
   ]
  },
  {
   "cell_type": "code",
   "execution_count": 20,
   "metadata": {},
   "outputs": [],
   "source": [
    "df[\"customers\"] = df[\"customers\"].map(lambda x: x[1:-1].replace('\\'', \"\"))\n",
    "df['manufacterers'].replace('[]', \"['SpaceX']\", inplace = True)\n",
    "df['manufacterers'] = df['manufacterers'].map(lambda x: x[1:-1].replace('\\'', \"\"))"
   ]
  },
  {
   "cell_type": "markdown",
   "metadata": {},
   "source": [
    "9. Checking the final data we have & save it"
   ]
  },
  {
   "cell_type": "code",
   "execution_count": 21,
   "metadata": {},
   "outputs": [
    {
     "data": {
      "text/html": [
       "<div>\n",
       "<style scoped>\n",
       "    .dataframe tbody tr th:only-of-type {\n",
       "        vertical-align: middle;\n",
       "    }\n",
       "\n",
       "    .dataframe tbody tr th {\n",
       "        vertical-align: top;\n",
       "    }\n",
       "\n",
       "    .dataframe thead th {\n",
       "        text-align: right;\n",
       "    }\n",
       "</style>\n",
       "<table border=\"1\" class=\"dataframe\">\n",
       "  <thead>\n",
       "    <tr style=\"text-align: right;\">\n",
       "      <th></th>\n",
       "      <th>date</th>\n",
       "      <th>booster version</th>\n",
       "      <th>payload mass</th>\n",
       "      <th>orbit</th>\n",
       "      <th>launch site</th>\n",
       "      <th>landing type</th>\n",
       "      <th>outcome</th>\n",
       "      <th>flights</th>\n",
       "      <th>gridfins</th>\n",
       "      <th>reused</th>\n",
       "      <th>legs</th>\n",
       "      <th>landing pad</th>\n",
       "      <th>block</th>\n",
       "      <th>reused count</th>\n",
       "      <th>serial</th>\n",
       "      <th>longitude</th>\n",
       "      <th>latitude</th>\n",
       "      <th>cost per launch</th>\n",
       "      <th>customers</th>\n",
       "      <th>manufacterers</th>\n",
       "    </tr>\n",
       "    <tr>\n",
       "      <th>flight no</th>\n",
       "      <th></th>\n",
       "      <th></th>\n",
       "      <th></th>\n",
       "      <th></th>\n",
       "      <th></th>\n",
       "      <th></th>\n",
       "      <th></th>\n",
       "      <th></th>\n",
       "      <th></th>\n",
       "      <th></th>\n",
       "      <th></th>\n",
       "      <th></th>\n",
       "      <th></th>\n",
       "      <th></th>\n",
       "      <th></th>\n",
       "      <th></th>\n",
       "      <th></th>\n",
       "      <th></th>\n",
       "      <th></th>\n",
       "      <th></th>\n",
       "    </tr>\n",
       "  </thead>\n",
       "  <tbody>\n",
       "    <tr>\n",
       "      <th>183</th>\n",
       "      <td>2022-09-05</td>\n",
       "      <td>Falcon 9</td>\n",
       "      <td>13260.000000</td>\n",
       "      <td>VLEO</td>\n",
       "      <td>Cape Canaveral Space Force Station Space Launc...</td>\n",
       "      <td>ASDS</td>\n",
       "      <td>True</td>\n",
       "      <td>7</td>\n",
       "      <td>True</td>\n",
       "      <td>True</td>\n",
       "      <td>True</td>\n",
       "      <td>5e9e3033383ecbb9e534e7cc</td>\n",
       "      <td>5.0</td>\n",
       "      <td>6</td>\n",
       "      <td>B1052</td>\n",
       "      <td>-80.577366</td>\n",
       "      <td>28.561857</td>\n",
       "      <td>50000000</td>\n",
       "      <td>SpaceX</td>\n",
       "      <td>SpaceX</td>\n",
       "    </tr>\n",
       "    <tr>\n",
       "      <th>184</th>\n",
       "      <td>2022-09-11</td>\n",
       "      <td>Falcon 9</td>\n",
       "      <td>13260.000000</td>\n",
       "      <td>VLEO</td>\n",
       "      <td>Kennedy Space Center Historic Launch Complex 39A</td>\n",
       "      <td>ASDS</td>\n",
       "      <td>True</td>\n",
       "      <td>14</td>\n",
       "      <td>True</td>\n",
       "      <td>True</td>\n",
       "      <td>True</td>\n",
       "      <td>5e9e3033383ecb075134e7cd</td>\n",
       "      <td>5.0</td>\n",
       "      <td>13</td>\n",
       "      <td>B1058</td>\n",
       "      <td>-80.603956</td>\n",
       "      <td>28.608058</td>\n",
       "      <td>50000000</td>\n",
       "      <td>SpaceX</td>\n",
       "      <td>SpaceX</td>\n",
       "    </tr>\n",
       "    <tr>\n",
       "      <th>185</th>\n",
       "      <td>2022-09-17</td>\n",
       "      <td>Falcon 9</td>\n",
       "      <td>13260.000000</td>\n",
       "      <td>VLEO</td>\n",
       "      <td>Cape Canaveral Space Force Station Space Launc...</td>\n",
       "      <td>ASDS</td>\n",
       "      <td>True</td>\n",
       "      <td>6</td>\n",
       "      <td>True</td>\n",
       "      <td>True</td>\n",
       "      <td>True</td>\n",
       "      <td>5e9e3033383ecbb9e534e7cc</td>\n",
       "      <td>5.0</td>\n",
       "      <td>5</td>\n",
       "      <td>B1067</td>\n",
       "      <td>-80.577366</td>\n",
       "      <td>28.561857</td>\n",
       "      <td>50000000</td>\n",
       "      <td>SpaceX</td>\n",
       "      <td>SpaceX</td>\n",
       "    </tr>\n",
       "    <tr>\n",
       "      <th>186</th>\n",
       "      <td>2022-09-24</td>\n",
       "      <td>Falcon 9</td>\n",
       "      <td>13260.000000</td>\n",
       "      <td>VLEO</td>\n",
       "      <td>Cape Canaveral Space Force Station Space Launc...</td>\n",
       "      <td>ASDS</td>\n",
       "      <td>True</td>\n",
       "      <td>4</td>\n",
       "      <td>True</td>\n",
       "      <td>True</td>\n",
       "      <td>True</td>\n",
       "      <td>5e9e3033383ecbb9e534e7cc</td>\n",
       "      <td>5.0</td>\n",
       "      <td>0</td>\n",
       "      <td>B1072</td>\n",
       "      <td>-80.577366</td>\n",
       "      <td>28.561857</td>\n",
       "      <td>50000000</td>\n",
       "      <td>SpaceX</td>\n",
       "      <td>SpaceX</td>\n",
       "    </tr>\n",
       "    <tr>\n",
       "      <th>187</th>\n",
       "      <td>2022-10-05</td>\n",
       "      <td>Falcon 9</td>\n",
       "      <td>8117.574038</td>\n",
       "      <td>ISS</td>\n",
       "      <td>Kennedy Space Center Historic Launch Complex 39A</td>\n",
       "      <td>ASDS</td>\n",
       "      <td>True</td>\n",
       "      <td>1</td>\n",
       "      <td>True</td>\n",
       "      <td>False</td>\n",
       "      <td>True</td>\n",
       "      <td>5e9e3033383ecbb9e534e7cc</td>\n",
       "      <td>5.0</td>\n",
       "      <td>0</td>\n",
       "      <td>B1077</td>\n",
       "      <td>-80.603956</td>\n",
       "      <td>28.608058</td>\n",
       "      <td>50000000</td>\n",
       "      <td>NASA (CCtCap)</td>\n",
       "      <td>SpaceX</td>\n",
       "    </tr>\n",
       "  </tbody>\n",
       "</table>\n",
       "</div>"
      ],
      "text/plain": [
       "                 date booster version  payload mass orbit  \\\n",
       "flight no                                                   \n",
       "183        2022-09-05        Falcon 9  13260.000000  VLEO   \n",
       "184        2022-09-11        Falcon 9  13260.000000  VLEO   \n",
       "185        2022-09-17        Falcon 9  13260.000000  VLEO   \n",
       "186        2022-09-24        Falcon 9  13260.000000  VLEO   \n",
       "187        2022-10-05        Falcon 9   8117.574038   ISS   \n",
       "\n",
       "                                                 launch site landing type  \\\n",
       "flight no                                                                   \n",
       "183        Cape Canaveral Space Force Station Space Launc...         ASDS   \n",
       "184         Kennedy Space Center Historic Launch Complex 39A         ASDS   \n",
       "185        Cape Canaveral Space Force Station Space Launc...         ASDS   \n",
       "186        Cape Canaveral Space Force Station Space Launc...         ASDS   \n",
       "187         Kennedy Space Center Historic Launch Complex 39A         ASDS   \n",
       "\n",
       "           outcome  flights  gridfins  reused  legs               landing pad  \\\n",
       "flight no                                                                       \n",
       "183           True        7      True    True  True  5e9e3033383ecbb9e534e7cc   \n",
       "184           True       14      True    True  True  5e9e3033383ecb075134e7cd   \n",
       "185           True        6      True    True  True  5e9e3033383ecbb9e534e7cc   \n",
       "186           True        4      True    True  True  5e9e3033383ecbb9e534e7cc   \n",
       "187           True        1      True   False  True  5e9e3033383ecbb9e534e7cc   \n",
       "\n",
       "           block  reused count serial  longitude   latitude  cost per launch  \\\n",
       "flight no                                                                      \n",
       "183          5.0             6  B1052 -80.577366  28.561857         50000000   \n",
       "184          5.0            13  B1058 -80.603956  28.608058         50000000   \n",
       "185          5.0             5  B1067 -80.577366  28.561857         50000000   \n",
       "186          5.0             0  B1072 -80.577366  28.561857         50000000   \n",
       "187          5.0             0  B1077 -80.603956  28.608058         50000000   \n",
       "\n",
       "               customers manufacterers  \n",
       "flight no                               \n",
       "183               SpaceX        SpaceX  \n",
       "184               SpaceX        SpaceX  \n",
       "185               SpaceX        SpaceX  \n",
       "186               SpaceX        SpaceX  \n",
       "187        NASA (CCtCap)        SpaceX  "
      ]
     },
     "execution_count": 21,
     "metadata": {},
     "output_type": "execute_result"
    }
   ],
   "source": [
    "df.tail()"
   ]
  },
  {
   "cell_type": "code",
   "execution_count": 22,
   "metadata": {},
   "outputs": [
    {
     "data": {
      "text/plain": [
       "date                0\n",
       "booster version     0\n",
       "payload mass        0\n",
       "orbit               0\n",
       "launch site         0\n",
       "landing type       24\n",
       "outcome             0\n",
       "flights             0\n",
       "gridfins            0\n",
       "reused              0\n",
       "legs                0\n",
       "landing pad        31\n",
       "block               0\n",
       "reused count        0\n",
       "serial              0\n",
       "longitude           0\n",
       "latitude            0\n",
       "cost per launch     0\n",
       "customers           0\n",
       "manufacterers       0\n",
       "dtype: int64"
      ]
     },
     "execution_count": 22,
     "metadata": {},
     "output_type": "execute_result"
    }
   ],
   "source": [
    "df.isna().sum()"
   ]
  },
  {
   "cell_type": "code",
   "execution_count": 23,
   "metadata": {},
   "outputs": [],
   "source": [
    "df.to_csv('../cleaning-data/api-cleaned-data.csv')"
   ]
  },
  {
   "cell_type": "code",
   "execution_count": null,
   "metadata": {},
   "outputs": [],
   "source": []
  }
 ],
 "metadata": {
  "kernelspec": {
   "display_name": "Python 3.9.13 64-bit",
   "language": "python",
   "name": "python3"
  },
  "language_info": {
   "codemirror_mode": {
    "name": "ipython",
    "version": 3
   },
   "file_extension": ".py",
   "mimetype": "text/x-python",
   "name": "python",
   "nbconvert_exporter": "python",
   "pygments_lexer": "ipython3",
   "version": "3.9.13"
  },
  "orig_nbformat": 4,
  "vscode": {
   "interpreter": {
    "hash": "aee8b7b246df8f9039afb4144a1f6fd8d2ca17a180786b69acc140d282b71a49"
   }
  }
 },
 "nbformat": 4,
 "nbformat_minor": 2
}
