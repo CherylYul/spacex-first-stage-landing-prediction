{
 "cells": [
  {
   "cell_type": "code",
   "execution_count": 64,
   "metadata": {},
   "outputs": [],
   "source": [
    "import pandas as pd\n",
    "import numpy as np\n",
    "import re"
   ]
  },
  {
   "attachments": {},
   "cell_type": "markdown",
   "metadata": {},
   "source": [
    "1. Import Library"
   ]
  },
  {
   "cell_type": "code",
   "execution_count": 65,
   "metadata": {},
   "outputs": [
    {
     "data": {
      "text/html": [
       "<div>\n",
       "<style scoped>\n",
       "    .dataframe tbody tr th:only-of-type {\n",
       "        vertical-align: middle;\n",
       "    }\n",
       "\n",
       "    .dataframe tbody tr th {\n",
       "        vertical-align: top;\n",
       "    }\n",
       "\n",
       "    .dataframe thead th {\n",
       "        text-align: right;\n",
       "    }\n",
       "</style>\n",
       "<table border=\"1\" class=\"dataframe\">\n",
       "  <thead>\n",
       "    <tr style=\"text-align: right;\">\n",
       "      <th></th>\n",
       "      <th>Unnamed: 0</th>\n",
       "      <th>FlightNo.</th>\n",
       "      <th>Dateandtime(UTC)</th>\n",
       "      <th>VersionBooster</th>\n",
       "      <th>Launchsite</th>\n",
       "      <th>Payload</th>\n",
       "      <th>Payloadmass</th>\n",
       "      <th>Orbit</th>\n",
       "      <th>Customer</th>\n",
       "      <th>Launchoutcome</th>\n",
       "      <th>Boosterlanding</th>\n",
       "    </tr>\n",
       "  </thead>\n",
       "  <tbody>\n",
       "    <tr>\n",
       "      <th>0</th>\n",
       "      <td>0</td>\n",
       "      <td>1</td>\n",
       "      <td>4 June 2010</td>\n",
       "      <td>F9 v1.0B0003[3]</td>\n",
       "      <td>CCSFS,SLC-40</td>\n",
       "      <td>Dragon Spacecraft Qualification Unit</td>\n",
       "      <td>N</td>\n",
       "      <td>LEO</td>\n",
       "      <td>SpaceX</td>\n",
       "      <td>Success</td>\n",
       "      <td>Failure[5](parachute)</td>\n",
       "    </tr>\n",
       "    <tr>\n",
       "      <th>1</th>\n",
       "      <td>1</td>\n",
       "      <td>2</td>\n",
       "      <td>8 December 2010</td>\n",
       "      <td>F9 v1.0B0004[3]</td>\n",
       "      <td>CCSFS,SLC-40</td>\n",
       "      <td>SpaceX COTS Demo Flight 1</td>\n",
       "      <td>U</td>\n",
       "      <td>LEO(ISS)</td>\n",
       "      <td>NASA(COTS)various others</td>\n",
       "      <td>Success</td>\n",
       "      <td>Failure[10](parachute)</td>\n",
       "    </tr>\n",
       "    <tr>\n",
       "      <th>2</th>\n",
       "      <td>2</td>\n",
       "      <td>3</td>\n",
       "      <td>22 May 2012</td>\n",
       "      <td>F9 v1.0B0005[3]</td>\n",
       "      <td>CCSFS,SLC-40</td>\n",
       "      <td>SpaceX COTS Demo Flight 2</td>\n",
       "      <td>525 kg</td>\n",
       "      <td>LEO(ISS)</td>\n",
       "      <td>NASA(COTS)</td>\n",
       "      <td>Success</td>\n",
       "      <td>No attempt</td>\n",
       "    </tr>\n",
       "    <tr>\n",
       "      <th>3</th>\n",
       "      <td>3</td>\n",
       "      <td>4</td>\n",
       "      <td>8 October 2012</td>\n",
       "      <td>F9 v1.0B0006[3]</td>\n",
       "      <td>CCSFS,SLC-40</td>\n",
       "      <td>SpaceX CRS-1</td>\n",
       "      <td>4,700 kg</td>\n",
       "      <td>LEO(ISS)</td>\n",
       "      <td>NASA(CRS)</td>\n",
       "      <td>Success</td>\n",
       "      <td>No attempt</td>\n",
       "    </tr>\n",
       "    <tr>\n",
       "      <th>4</th>\n",
       "      <td>4</td>\n",
       "      <td>5</td>\n",
       "      <td>1 March 2013</td>\n",
       "      <td>F9 v1.0B0007[3]</td>\n",
       "      <td>CCSFS,SLC-40</td>\n",
       "      <td>SpaceX CRS-2</td>\n",
       "      <td>4,877 kg</td>\n",
       "      <td>LEO(ISS)</td>\n",
       "      <td>NASA(CRS)</td>\n",
       "      <td>Success</td>\n",
       "      <td>No attempt</td>\n",
       "    </tr>\n",
       "  </tbody>\n",
       "</table>\n",
       "</div>"
      ],
      "text/plain": [
       "   Unnamed: 0 FlightNo. Dateandtime(UTC)   VersionBooster    Launchsite  \\\n",
       "0           0         1      4 June 2010  F9 v1.0B0003[3]  CCSFS,SLC-40   \n",
       "1           1         2  8 December 2010  F9 v1.0B0004[3]  CCSFS,SLC-40   \n",
       "2           2         3      22 May 2012  F9 v1.0B0005[3]  CCSFS,SLC-40   \n",
       "3           3         4   8 October 2012  F9 v1.0B0006[3]  CCSFS,SLC-40   \n",
       "4           4         5     1 March 2013  F9 v1.0B0007[3]  CCSFS,SLC-40   \n",
       "\n",
       "                                Payload Payloadmass     Orbit  \\\n",
       "0  Dragon Spacecraft Qualification Unit           N       LEO   \n",
       "1             SpaceX COTS Demo Flight 1           U  LEO(ISS)   \n",
       "2             SpaceX COTS Demo Flight 2      525 kg  LEO(ISS)   \n",
       "3                          SpaceX CRS-1    4,700 kg  LEO(ISS)   \n",
       "4                          SpaceX CRS-2    4,877 kg  LEO(ISS)   \n",
       "\n",
       "                   Customer Launchoutcome          Boosterlanding  \n",
       "0                    SpaceX       Success   Failure[5](parachute)  \n",
       "1  NASA(COTS)various others       Success  Failure[10](parachute)  \n",
       "2                NASA(COTS)       Success              No attempt  \n",
       "3                 NASA(CRS)       Success              No attempt  \n",
       "4                 NASA(CRS)       Success              No attempt  "
      ]
     },
     "execution_count": 65,
     "metadata": {},
     "output_type": "execute_result"
    }
   ],
   "source": [
    "df = pd.read_csv(\"../collecting-data/wiki-data.csv\")\n",
    "df.head()"
   ]
  },
  {
   "attachments": {},
   "cell_type": "markdown",
   "metadata": {},
   "source": [
    "2. Drop unnamed, payload column, set flight no as index, drop falcon heavy"
   ]
  },
  {
   "cell_type": "code",
   "execution_count": 66,
   "metadata": {},
   "outputs": [],
   "source": [
    "df.drop(['Unnamed: 0', 'Payload'], axis=1, inplace=True)\n",
    "df.set_index('FlightNo.', inplace=True)\n",
    "df.drop(['FH 1', 'FH 2', 'FH 3', 'FH 4', 'FH 5'], inplace = True)"
   ]
  },
  {
   "attachments": {},
   "cell_type": "markdown",
   "metadata": {},
   "source": [
    "3. Handle Date column"
   ]
  },
  {
   "cell_type": "code",
   "execution_count": 67,
   "metadata": {},
   "outputs": [],
   "source": [
    "df['Dateandtime(UTC)'].replace(\"12 February 202305:10[479]\", \"12 February 2023\", inplace = True)\n",
    "df['Dateandtime(UTC)'] = pd.to_datetime(df['Dateandtime(UTC)'])"
   ]
  },
  {
   "attachments": {},
   "cell_type": "markdown",
   "metadata": {},
   "source": [
    "4. Handle VersionBooster\n",
    "\n",
    "* Split into 2 columns: BoosterVersion and Serial\n",
    "\n",
    "* For Falcon 9 we have 4 types of BoosterVersion: Falcon 9 v1.0, Falcon 9 v1.1, Falcon 9 v1.2(FT), Falcon 9 Block 5 as picture below\n",
    "\n",
    "<img src=\"https://upload.wikimedia.org/wikipedia/commons/thumb/0/0e/Falcon9_rocket_family.svg/660px-Falcon9_rocket_family.svg.png\" style=\"background: #FFFFFF\">\n",
    "\n",
    "* With flights have no serial, set to B0000\n",
    "\n",
    "* Drop the VersionBooster"
   ]
  },
  {
   "cell_type": "code",
   "execution_count": 68,
   "metadata": {},
   "outputs": [],
   "source": [
    "df[\"BoosterVersion\"] = df['VersionBooster'].str.split(\"(B)\\d{4}\", regex=True, expand=True)[0]\n",
    "df[\"BoosterVersion\"] = df[\"BoosterVersion\"].map(lambda x:x.replace(\"♺\",\"\"))"
   ]
  },
  {
   "cell_type": "code",
   "execution_count": 69,
   "metadata": {},
   "outputs": [],
   "source": [
    "df['Serial'] = df[\"VersionBooster\"].str.split(expand=True)[1]\n",
    "df['Serial'].replace('v1.1', 'B0000', inplace=True)\n",
    "df['Serial'] = df['Serial'].map(lambda x: re.search(\"(B\\d{4})\", str(x)).group())"
   ]
  },
  {
   "cell_type": "code",
   "execution_count": 70,
   "metadata": {},
   "outputs": [
    {
     "data": {
      "text/html": [
       "<div>\n",
       "<style scoped>\n",
       "    .dataframe tbody tr th:only-of-type {\n",
       "        vertical-align: middle;\n",
       "    }\n",
       "\n",
       "    .dataframe tbody tr th {\n",
       "        vertical-align: top;\n",
       "    }\n",
       "\n",
       "    .dataframe thead th {\n",
       "        text-align: right;\n",
       "    }\n",
       "</style>\n",
       "<table border=\"1\" class=\"dataframe\">\n",
       "  <thead>\n",
       "    <tr style=\"text-align: right;\">\n",
       "      <th></th>\n",
       "      <th>Dateandtime(UTC)</th>\n",
       "      <th>Launchsite</th>\n",
       "      <th>Payloadmass</th>\n",
       "      <th>Orbit</th>\n",
       "      <th>Customer</th>\n",
       "      <th>Launchoutcome</th>\n",
       "      <th>Boosterlanding</th>\n",
       "      <th>BoosterVersion</th>\n",
       "      <th>Serial</th>\n",
       "    </tr>\n",
       "    <tr>\n",
       "      <th>FlightNo.</th>\n",
       "      <th></th>\n",
       "      <th></th>\n",
       "      <th></th>\n",
       "      <th></th>\n",
       "      <th></th>\n",
       "      <th></th>\n",
       "      <th></th>\n",
       "      <th></th>\n",
       "      <th></th>\n",
       "    </tr>\n",
       "  </thead>\n",
       "  <tbody>\n",
       "    <tr>\n",
       "      <th>1</th>\n",
       "      <td>2010-06-04</td>\n",
       "      <td>CCSFS,SLC-40</td>\n",
       "      <td>N</td>\n",
       "      <td>LEO</td>\n",
       "      <td>SpaceX</td>\n",
       "      <td>Success</td>\n",
       "      <td>Failure[5](parachute)</td>\n",
       "      <td>F9 v1.0</td>\n",
       "      <td>B0003</td>\n",
       "    </tr>\n",
       "    <tr>\n",
       "      <th>2</th>\n",
       "      <td>2010-12-08</td>\n",
       "      <td>CCSFS,SLC-40</td>\n",
       "      <td>U</td>\n",
       "      <td>LEO(ISS)</td>\n",
       "      <td>NASA(COTS)various others</td>\n",
       "      <td>Success</td>\n",
       "      <td>Failure[10](parachute)</td>\n",
       "      <td>F9 v1.0</td>\n",
       "      <td>B0004</td>\n",
       "    </tr>\n",
       "    <tr>\n",
       "      <th>3</th>\n",
       "      <td>2012-05-22</td>\n",
       "      <td>CCSFS,SLC-40</td>\n",
       "      <td>525 kg</td>\n",
       "      <td>LEO(ISS)</td>\n",
       "      <td>NASA(COTS)</td>\n",
       "      <td>Success</td>\n",
       "      <td>No attempt</td>\n",
       "      <td>F9 v1.0</td>\n",
       "      <td>B0005</td>\n",
       "    </tr>\n",
       "    <tr>\n",
       "      <th>4</th>\n",
       "      <td>2012-10-08</td>\n",
       "      <td>CCSFS,SLC-40</td>\n",
       "      <td>4,700 kg</td>\n",
       "      <td>LEO(ISS)</td>\n",
       "      <td>NASA(CRS)</td>\n",
       "      <td>Success</td>\n",
       "      <td>No attempt</td>\n",
       "      <td>F9 v1.0</td>\n",
       "      <td>B0006</td>\n",
       "    </tr>\n",
       "    <tr>\n",
       "      <th>5</th>\n",
       "      <td>2013-03-01</td>\n",
       "      <td>CCSFS,SLC-40</td>\n",
       "      <td>4,877 kg</td>\n",
       "      <td>LEO(ISS)</td>\n",
       "      <td>NASA(CRS)</td>\n",
       "      <td>Success</td>\n",
       "      <td>No attempt</td>\n",
       "      <td>F9 v1.0</td>\n",
       "      <td>B0007</td>\n",
       "    </tr>\n",
       "  </tbody>\n",
       "</table>\n",
       "</div>"
      ],
      "text/plain": [
       "          Dateandtime(UTC)    Launchsite Payloadmass     Orbit  \\\n",
       "FlightNo.                                                        \n",
       "1               2010-06-04  CCSFS,SLC-40           N       LEO   \n",
       "2               2010-12-08  CCSFS,SLC-40           U  LEO(ISS)   \n",
       "3               2012-05-22  CCSFS,SLC-40      525 kg  LEO(ISS)   \n",
       "4               2012-10-08  CCSFS,SLC-40    4,700 kg  LEO(ISS)   \n",
       "5               2013-03-01  CCSFS,SLC-40    4,877 kg  LEO(ISS)   \n",
       "\n",
       "                           Customer Launchoutcome          Boosterlanding  \\\n",
       "FlightNo.                                                                   \n",
       "1                            SpaceX       Success   Failure[5](parachute)   \n",
       "2          NASA(COTS)various others       Success  Failure[10](parachute)   \n",
       "3                        NASA(COTS)       Success              No attempt   \n",
       "4                         NASA(CRS)       Success              No attempt   \n",
       "5                         NASA(CRS)       Success              No attempt   \n",
       "\n",
       "          BoosterVersion Serial  \n",
       "FlightNo.                        \n",
       "1                F9 v1.0  B0003  \n",
       "2                F9 v1.0  B0004  \n",
       "3                F9 v1.0  B0005  \n",
       "4                F9 v1.0  B0006  \n",
       "5                F9 v1.0  B0007  "
      ]
     },
     "execution_count": 70,
     "metadata": {},
     "output_type": "execute_result"
    }
   ],
   "source": [
    "df.drop(['VersionBooster'], axis=1, inplace=True)\n",
    "df.head()"
   ]
  },
  {
   "attachments": {},
   "cell_type": "markdown",
   "metadata": {},
   "source": [
    "5. We have 3 main launch sites:\n",
    "\n",
    "* **CCSFS**: Cape Canaveral Space Force Station\n",
    "\n",
    "* **VSFB**: Vandenberg Space Force Base, previously Vandenberg Air Force Base (VAFB)\n",
    "\n",
    "* **KSC**: John F.Kennedy Space Center\n",
    "\n",
    "* **SLC-40**: Space Launch Complex 40, previously Launch Complex 40 (LC-40), launch pad for rockets, located at CCSFS \n",
    "\n",
    "* **SLC-4E**: Space Launch Complex 4, 2 launch pads, landing at VSFB\n",
    "\n",
    "* **LC-39A**: Launch Complex 39A, 3 launch pads, located at NASA's KSC"
   ]
  },
  {
   "cell_type": "code",
   "execution_count": 71,
   "metadata": {},
   "outputs": [
    {
     "data": {
      "text/plain": [
       "array(['CCSFS,SLC-40', 'VSFB,SLC-4E', 'KSC,LC-39A', 'CCSFS,SLC-40[121]',\n",
       "       'CCSFS,SLC-40[486]'], dtype=object)"
      ]
     },
     "execution_count": 71,
     "metadata": {},
     "output_type": "execute_result"
    }
   ],
   "source": [
    "df['Launchsite'].unique()"
   ]
  },
  {
   "cell_type": "code",
   "execution_count": 72,
   "metadata": {},
   "outputs": [],
   "source": [
    "df['Launchsite'] = df['Launchsite'].map(lambda x: x.replace(',', ' '))\n",
    "df['Launchsite'] = df['Launchsite'].map(lambda x: x.replace('[121]', '').replace('[486]', ''))"
   ]
  },
  {
   "attachments": {},
   "cell_type": "markdown",
   "metadata": {},
   "source": [
    "6. Handle Payloadmass\n",
    "\n",
    "* turn into float data, fill in missing value with mass average"
   ]
  },
  {
   "cell_type": "code",
   "execution_count": 73,
   "metadata": {},
   "outputs": [
    {
     "data": {
      "text/plain": [
       "FlightNo.\n",
       "1           N\n",
       "2           U\n",
       "3      525 kg\n",
       "4    4,700 kg\n",
       "5    4,877 kg\n",
       "Name: Payloadmass, dtype: object"
      ]
     },
     "execution_count": 73,
     "metadata": {},
     "output_type": "execute_result"
    }
   ],
   "source": [
    "df['Payloadmass'].head()"
   ]
  },
  {
   "cell_type": "code",
   "execution_count": 74,
   "metadata": {},
   "outputs": [
    {
     "data": {
      "text/plain": [
       "FlightNo.\n",
       "1       0\n",
       "2       0\n",
       "3     525\n",
       "4    4700\n",
       "5    4877\n",
       "Name: Payloadmass, dtype: object"
      ]
     },
     "execution_count": 74,
     "metadata": {},
     "output_type": "execute_result"
    }
   ],
   "source": [
    "df['Payloadmass'].replace(['N', 'U', 'C'], '0 kg', inplace=True)\n",
    "df['Payloadmass'] = df['Payloadmass'].map(lambda x: re.search('[\\d\\.\\,]+', x).group().replace(',', ''))\n",
    "df['Payloadmass'].head()"
   ]
  },
  {
   "cell_type": "code",
   "execution_count": 75,
   "metadata": {},
   "outputs": [
    {
     "data": {
      "text/plain": [
       "FlightNo.\n",
       "1    8933.290816\n",
       "2    8933.290816\n",
       "3     525.000000\n",
       "4    4700.000000\n",
       "5    4877.000000\n",
       "Name: Payloadmass, dtype: float64"
      ]
     },
     "execution_count": 75,
     "metadata": {},
     "output_type": "execute_result"
    }
   ],
   "source": [
    "df['Payloadmass'].replace('0', np.nan, inplace=True)\n",
    "df['Payloadmass'] = df['Payloadmass'].astype('float64')\n",
    "df['Payloadmass'].replace(np.nan, df['Payloadmass'].mean(), inplace=True)\n",
    "df['Payloadmass'].head()"
   ]
  },
  {
   "attachments": {},
   "cell_type": "markdown",
   "metadata": {},
   "source": [
    "7. Handle Orbit\n",
    "\n",
    "* **LEO**: Low Earth Orbit, an orbit around Earth with a period of 128 minutes or less, altitude 2000 km, most of artificial objects in outer space are LEO. ISS are the largest international Space Station in LEO\n",
    "\n",
    "* **MEO**: Medium Earth Orbit, an altitude above a low Earth orbit (LEO) and below a high Earth orbit (HEO) – between 2,000 and 35,786 km\n",
    "\n",
    "* **GTO**: Geosynchronous Orbit, a high Earth orbit that allows satellites to match Earth's rotation. Located at 22,236 miles (35,786 kilometers) above Earth's equator, this position is a valuable spot for monitoring weather, communications and surveillance.\n",
    "\n",
    "* **HEO**: High Earth Orbit, a geocentric orbit with an altitude entirely above that of a geosynchronous orbit (35,786 kilometres)\n",
    "\n",
    "* **Heliocentric**: an orbit around the barycenter of the Solar System, which is usually located within or very near the surface of the Sun\n",
    "\n",
    "* **PO**: Polar Orbit, a satellite passes above or nearly above both poles of the body being orbited\n",
    "\n",
    "* **SSO**: Sun-synchronous Orbit, a heliosynchronous orbit is a nearly polar orbit around a planet, in which the satellite passes over any given point of the planet's surface at the same local mean solar time\n",
    "\n",
    "* **BLT**: Ballistic Capture, a low energy method for a spacecraft to achieve an orbit around a distant planet or moon with no fuel required to go into orbit\n",
    "\n",
    "* **Sub-orbital**: a spaceflight in which the spacecraft reaches outer space, but its trajectory intersects the atmosphere or surface of the gravitating body from which it was launched, so that it will not complete one orbital revolution (it does not become an artificial satellite)\n",
    "\n",
    "* **ES-L1**: Sun-Earth-L1, the satellite launched into orbit toward Sun Earth Lagrange L1 point"
   ]
  },
  {
   "cell_type": "code",
   "execution_count": 76,
   "metadata": {},
   "outputs": [
    {
     "data": {
      "text/plain": [
       "LEO                               85\n",
       "GTO                               40\n",
       "LEO(ISS)                          37\n",
       "SSO                               19\n",
       "PolarLEO                           9\n",
       "MEO                                6\n",
       "Ballistic lunar transfer (BLT)     2\n",
       "GTO[398]                           1\n",
       "Heliocentric                       1\n",
       "Sub-orbital[18]                    1\n",
       "HEOforP/2 orbit                    1\n",
       "GTO[356]                           1\n",
       "GTO[338]                           1\n",
       "LEO[172]                           1\n",
       "Sun–Earth L1insertion              1\n",
       "Polar orbitLEO                     1\n",
       "RetrogradeLEO                      1\n",
       "Name: Orbit, dtype: int64"
      ]
     },
     "execution_count": 76,
     "metadata": {},
     "output_type": "execute_result"
    }
   ],
   "source": [
    "df['Orbit'].value_counts()"
   ]
  },
  {
   "cell_type": "code",
   "execution_count": 77,
   "metadata": {},
   "outputs": [],
   "source": [
    "df['Orbit'].replace(['LEO(ISS)', 'LEO[172]', 'RetrogradeLEO'], 'LEO', inplace=True)\n",
    "df['Orbit'].replace(['PolarLEO','Polar orbitLEO'], 'PO', inplace=True)\n",
    "df['Orbit'].replace('Ballistic lunar transfer (BLT)', 'BLT', inplace=True)\n",
    "df['Orbit'].replace(['GTO[398]', 'GTO[356]', 'GTO[338]'], 'GTO', inplace=True)\n",
    "df['Orbit'].replace('Sub-orbital[18]', 'Sub-orbital', inplace=True)\n",
    "df['Orbit'].replace('HEOforP/2 orbit', 'HEO', inplace=True)\n",
    "df['Orbit'].replace('Sun–Earth L1insertion', 'ES-L1', inplace=True)"
   ]
  },
  {
   "cell_type": "code",
   "execution_count": 78,
   "metadata": {},
   "outputs": [
    {
     "data": {
      "text/plain": [
       "LEO             124\n",
       "GTO              43\n",
       "SSO              19\n",
       "PO               10\n",
       "MEO               6\n",
       "BLT               2\n",
       "ES-L1             1\n",
       "HEO               1\n",
       "Sub-orbital       1\n",
       "Heliocentric      1\n",
       "Name: Orbit, dtype: int64"
      ]
     },
     "execution_count": 78,
     "metadata": {},
     "output_type": "execute_result"
    }
   ],
   "source": [
    "df['Orbit'].value_counts()"
   ]
  },
  {
   "attachments": {},
   "cell_type": "markdown",
   "metadata": {},
   "source": [
    "8. Handle customers"
   ]
  },
  {
   "cell_type": "code",
   "execution_count": 79,
   "metadata": {},
   "outputs": [
    {
     "data": {
      "text/plain": [
       "array(['SpaceX', 'NASA(COTS)various others', 'NASA(COTS)', 'NASA(CRS)',\n",
       "       'MDA', 'SES', 'Thaicom', 'Orbcomm', 'AsiaSat', 'USAFNASANOAA',\n",
       "       'ABSEutelsat', 'Turkmenistan NationalSpace Agency',\n",
       "       'NASA(LSP)NOAACNES', 'SKY Perfect JSAT Group',\n",
       "       'Iridium Communications', 'EchoStar', 'NRO', 'Inmarsat',\n",
       "       'Bulsatcom', 'Intelsat', 'NSPO', 'USAF', 'SES S.A.EchoStar',\n",
       "       'KT Corporation', 'Northrop Grumman', 'HisdesatexactEarthSpaceX',\n",
       "       'HispasatNovaWurks', 'NASA(LSP)', 'Thales-Alenia/BTRC',\n",
       "       'Iridium CommunicationsGFZ•NASA', 'Telesat', 'Telkom Indonesia',\n",
       "       'CONAE', \"Es'hailSat\", 'Spaceflight Industries',\n",
       "       'PSNSpaceIL/IAIAir Force Research', 'NASA(CCD)',\n",
       "       'Canadian Space Agency(CSA)', 'Spacecom',\n",
       "       'Sky Perfect JSATKacific 1', 'NASA(CTS)', 'NASA(CCDev)',\n",
       "       'SpaceXPlanet Labs', 'U.S. Space Force', 'Republic of Korea Army',\n",
       "       'SpaceXSpaceflight Industries(BlackSky)', 'CONAEPlanetIQTyvak',\n",
       "       'USSF', 'NASA(CCP)', 'NASA/NOAA/ESA/EUMETSAT', 'Sirius XM',\n",
       "       'Türksat', 'Various', 'SpaceXCapella SpaceandTyvak',\n",
       "       'Jared Isaacman[225][226]',\n",
       "       'SpaceXSpaceflight, Inc.(BlackSky Global)', 'ASI', 'Axiom Space',\n",
       "       'Nilesat', 'German Intelligence Service',\n",
       "       'GlobalstarUnknown US Government Agency', 'KARI',\n",
       "       'SpaceXSpaceflight Industries', 'SpaceXAST SpaceMobile',\n",
       "       'Eutelsat', 'OneWeb', 'ispaceMBRSCJAXANASA', 'NASA/CNES',\n",
       "       'ImageSat International', 'SpaceXD-Orbit', 'Hispasat'],\n",
       "      dtype=object)"
      ]
     },
     "execution_count": 79,
     "metadata": {},
     "output_type": "execute_result"
    }
   ],
   "source": [
    "df['Customer'].unique()"
   ]
  },
  {
   "cell_type": "code",
   "execution_count": 80,
   "metadata": {},
   "outputs": [],
   "source": [
    "df['Customer'].replace('NASA(COTS)various others', 'NASA(COTS)', inplace=True)\n",
    "df['Customer'].replace('USAFNASANOAA', 'USAF/NASA/NOAA', inplace=True)\n",
    "df['Customer'].replace('ABSEutelsat', 'ABS/Eutelsat', inplace=True)\n",
    "df['Customer'].replace('NASA(LSP)NOAACNES', 'NASA/NOAA/CNES', inplace=True)\n",
    "df['Customer'].replace('SES S.A.EchoStar', 'SES/EchoStar', inplace=True)\n",
    "df['Customer'].replace('HisdesatexactEarthSpaceX', 'Hisdesat/exactEarth/SpaceX', inplace=True)\n",
    "df['Customer'].replace('HispasatNovaWurks', 'Hispasat/NovaWurks', inplace=True)\n",
    "df['Customer'].replace('Iridium CommunicationsGFZ•NASA', 'Iridium Communications/GFZ/NASA', inplace=True)\n",
    "df['Customer'].replace('PSNSpaceIL/IAIAir Force Research', 'PSN/SpaceIL/IAI/Air Force Research', inplace=True)\n",
    "df['Customer'].replace('Sky Perfect JSATKacific 1', 'SKY Perfect JSAT Group/Kacific 1', inplace=True)\n",
    "df['Customer'].replace('SpaceXPlanet Labs', 'SpaceX/Planet Labs', inplace=True)\n",
    "df['Customer'].replace(['SpaceXSpaceflight Industries(BlackSky)', \n",
    "                        'SpaceXSpaceflight, Inc.(BlackSky Global)', \n",
    "                        'SpaceXSpaceflight Industries'], 'SpaceX/Spaceflight', inplace=True)\n",
    "df['Customer'].replace('CONAEPlanetIQTyvak', 'CONAE/PlanetIQ/Tyvak', inplace=True)\n",
    "df['Customer'].replace('SpaceXCapella SpaceandTyvak', 'SpaceX/Capella Space/Tyvak', inplace=True)\n",
    "df['Customer'].replace('Jared Isaacman[225][226]', 'Jared Isaacman', inplace=True)\n",
    "df['Customer'].replace('GlobalstarUnknown US Government Agency', 'Globalstar/US Government Agency', inplace=True)\n",
    "df['Customer'].replace('SpaceXAST SpaceMobile', 'SpaceX/AST SpaceMobile', inplace=True)\n",
    "df['Customer'].replace('ispaceMBRSCJAXANASA', 'ispace/MBRSC/JAXA/NASA', inplace=True)\n",
    "df['Customer'].replace('SpaceXD-Orbit', 'SpaceX/D-Orbit', inplace=True)"
   ]
  },
  {
   "attachments": {},
   "cell_type": "markdown",
   "metadata": {},
   "source": [
    "9. Launch Outcome"
   ]
  },
  {
   "cell_type": "code",
   "execution_count": 81,
   "metadata": {},
   "outputs": [],
   "source": [
    "df['Launchoutcome'].replace('Failure(in flight)', 'Failure', inplace=True)"
   ]
  },
  {
   "attachments": {},
   "cell_type": "markdown",
   "metadata": {},
   "source": [
    "10. Booster landing"
   ]
  },
  {
   "cell_type": "code",
   "execution_count": 82,
   "metadata": {},
   "outputs": [
    {
     "data": {
      "text/plain": [
       "Success(drone ship)        136\n",
       "Success(ground pad)         29\n",
       "No attempt                  24\n",
       "Failure(drone ship)          8\n",
       "Controlled(ocean)[42]        2\n",
       "Failure[5](parachute)        1\n",
       "Failure[10](parachute)       1\n",
       "Uncontrolled(ocean)          1\n",
       "Uncontrolled(ocean)[60]      1\n",
       "Controlled(ocean)            1\n",
       "Precluded(drone ship)        1\n",
       "Controlled(ocean)[229]       1\n",
       "Controlled(ocean)[244]       1\n",
       "Failure(ground pad)          1\n",
       "Name: Boosterlanding, dtype: int64"
      ]
     },
     "execution_count": 82,
     "metadata": {},
     "output_type": "execute_result"
    }
   ],
   "source": [
    "df['Boosterlanding'].value_counts()"
   ]
  },
  {
   "cell_type": "code",
   "execution_count": 83,
   "metadata": {},
   "outputs": [
    {
     "data": {
      "text/plain": [
       "Success(drone ship)      136\n",
       "Success(ground pad)       29\n",
       "No attempt                24\n",
       "Failure(drone ship)        8\n",
       "Controlled(ocean)          5\n",
       "Failure(parachute)         2\n",
       "Uncontrolled(ocean)        2\n",
       "Precluded(drone ship)      1\n",
       "Failure(ground pad)        1\n",
       "Name: Boosterlanding, dtype: int64"
      ]
     },
     "execution_count": 83,
     "metadata": {},
     "output_type": "execute_result"
    }
   ],
   "source": [
    "df['Boosterlanding'] = df['Boosterlanding'].map(lambda x: re.sub('[\\[\\d\\]]+', '', x))\n",
    "df['Boosterlanding'].value_counts()"
   ]
  },
  {
   "cell_type": "code",
   "execution_count": 84,
   "metadata": {},
   "outputs": [
    {
     "name": "stdout",
     "output_type": "stream",
     "text": [
      "<class 'pandas.core.frame.DataFrame'>\n",
      "Index: 208 entries, 1 to 208\n",
      "Data columns (total 9 columns):\n",
      " #   Column            Non-Null Count  Dtype         \n",
      "---  ------            --------------  -----         \n",
      " 0   Dateandtime(UTC)  208 non-null    datetime64[ns]\n",
      " 1   Launchsite        208 non-null    object        \n",
      " 2   Payloadmass       208 non-null    float64       \n",
      " 3   Orbit             208 non-null    object        \n",
      " 4   Customer          208 non-null    object        \n",
      " 5   Launchoutcome     208 non-null    object        \n",
      " 6   Boosterlanding    208 non-null    object        \n",
      " 7   BoosterVersion    208 non-null    object        \n",
      " 8   Serial            208 non-null    object        \n",
      "dtypes: datetime64[ns](1), float64(1), object(7)\n",
      "memory usage: 16.2+ KB\n"
     ]
    }
   ],
   "source": [
    "df.info()"
   ]
  },
  {
   "cell_type": "code",
   "execution_count": 85,
   "metadata": {},
   "outputs": [
    {
     "data": {
      "text/html": [
       "<div>\n",
       "<style scoped>\n",
       "    .dataframe tbody tr th:only-of-type {\n",
       "        vertical-align: middle;\n",
       "    }\n",
       "\n",
       "    .dataframe tbody tr th {\n",
       "        vertical-align: top;\n",
       "    }\n",
       "\n",
       "    .dataframe thead th {\n",
       "        text-align: right;\n",
       "    }\n",
       "</style>\n",
       "<table border=\"1\" class=\"dataframe\">\n",
       "  <thead>\n",
       "    <tr style=\"text-align: right;\">\n",
       "      <th></th>\n",
       "      <th>Dateandtime(UTC)</th>\n",
       "      <th>Launchsite</th>\n",
       "      <th>Payloadmass</th>\n",
       "      <th>Orbit</th>\n",
       "      <th>Customer</th>\n",
       "      <th>Launchoutcome</th>\n",
       "      <th>Boosterlanding</th>\n",
       "      <th>BoosterVersion</th>\n",
       "      <th>Serial</th>\n",
       "    </tr>\n",
       "    <tr>\n",
       "      <th>FlightNo.</th>\n",
       "      <th></th>\n",
       "      <th></th>\n",
       "      <th></th>\n",
       "      <th></th>\n",
       "      <th></th>\n",
       "      <th></th>\n",
       "      <th></th>\n",
       "      <th></th>\n",
       "      <th></th>\n",
       "    </tr>\n",
       "  </thead>\n",
       "  <tbody>\n",
       "    <tr>\n",
       "      <th>1</th>\n",
       "      <td>2010-06-04</td>\n",
       "      <td>CCSFS SLC-40</td>\n",
       "      <td>8933.290816</td>\n",
       "      <td>LEO</td>\n",
       "      <td>SpaceX</td>\n",
       "      <td>Success</td>\n",
       "      <td>Failure(parachute)</td>\n",
       "      <td>F9 v1.0</td>\n",
       "      <td>B0003</td>\n",
       "    </tr>\n",
       "    <tr>\n",
       "      <th>2</th>\n",
       "      <td>2010-12-08</td>\n",
       "      <td>CCSFS SLC-40</td>\n",
       "      <td>8933.290816</td>\n",
       "      <td>LEO</td>\n",
       "      <td>NASA(COTS)</td>\n",
       "      <td>Success</td>\n",
       "      <td>Failure(parachute)</td>\n",
       "      <td>F9 v1.0</td>\n",
       "      <td>B0004</td>\n",
       "    </tr>\n",
       "    <tr>\n",
       "      <th>3</th>\n",
       "      <td>2012-05-22</td>\n",
       "      <td>CCSFS SLC-40</td>\n",
       "      <td>525.000000</td>\n",
       "      <td>LEO</td>\n",
       "      <td>NASA(COTS)</td>\n",
       "      <td>Success</td>\n",
       "      <td>No attempt</td>\n",
       "      <td>F9 v1.0</td>\n",
       "      <td>B0005</td>\n",
       "    </tr>\n",
       "    <tr>\n",
       "      <th>4</th>\n",
       "      <td>2012-10-08</td>\n",
       "      <td>CCSFS SLC-40</td>\n",
       "      <td>4700.000000</td>\n",
       "      <td>LEO</td>\n",
       "      <td>NASA(CRS)</td>\n",
       "      <td>Success</td>\n",
       "      <td>No attempt</td>\n",
       "      <td>F9 v1.0</td>\n",
       "      <td>B0006</td>\n",
       "    </tr>\n",
       "    <tr>\n",
       "      <th>5</th>\n",
       "      <td>2013-03-01</td>\n",
       "      <td>CCSFS SLC-40</td>\n",
       "      <td>4877.000000</td>\n",
       "      <td>LEO</td>\n",
       "      <td>NASA(CRS)</td>\n",
       "      <td>Success</td>\n",
       "      <td>No attempt</td>\n",
       "      <td>F9 v1.0</td>\n",
       "      <td>B0007</td>\n",
       "    </tr>\n",
       "  </tbody>\n",
       "</table>\n",
       "</div>"
      ],
      "text/plain": [
       "          Dateandtime(UTC)    Launchsite  Payloadmass Orbit    Customer  \\\n",
       "FlightNo.                                                                 \n",
       "1               2010-06-04  CCSFS SLC-40  8933.290816   LEO      SpaceX   \n",
       "2               2010-12-08  CCSFS SLC-40  8933.290816   LEO  NASA(COTS)   \n",
       "3               2012-05-22  CCSFS SLC-40   525.000000   LEO  NASA(COTS)   \n",
       "4               2012-10-08  CCSFS SLC-40  4700.000000   LEO   NASA(CRS)   \n",
       "5               2013-03-01  CCSFS SLC-40  4877.000000   LEO   NASA(CRS)   \n",
       "\n",
       "          Launchoutcome      Boosterlanding BoosterVersion Serial  \n",
       "FlightNo.                                                          \n",
       "1               Success  Failure(parachute)        F9 v1.0  B0003  \n",
       "2               Success  Failure(parachute)        F9 v1.0  B0004  \n",
       "3               Success          No attempt        F9 v1.0  B0005  \n",
       "4               Success          No attempt        F9 v1.0  B0006  \n",
       "5               Success          No attempt        F9 v1.0  B0007  "
      ]
     },
     "execution_count": 85,
     "metadata": {},
     "output_type": "execute_result"
    }
   ],
   "source": [
    "df.head()"
   ]
  },
  {
   "cell_type": "code",
   "execution_count": 86,
   "metadata": {},
   "outputs": [],
   "source": [
    "df.to_csv('../cleaning-data/web-cleaned-data.csv')"
   ]
  }
 ],
 "metadata": {
  "kernelspec": {
   "display_name": "Python 3",
   "language": "python",
   "name": "python3"
  },
  "language_info": {
   "codemirror_mode": {
    "name": "ipython",
    "version": 3
   },
   "file_extension": ".py",
   "mimetype": "text/x-python",
   "name": "python",
   "nbconvert_exporter": "python",
   "pygments_lexer": "ipython3",
   "version": "3.9.13"
  },
  "orig_nbformat": 4,
  "vscode": {
   "interpreter": {
    "hash": "aee8b7b246df8f9039afb4144a1f6fd8d2ca17a180786b69acc140d282b71a49"
   }
  }
 },
 "nbformat": 4,
 "nbformat_minor": 2
}
