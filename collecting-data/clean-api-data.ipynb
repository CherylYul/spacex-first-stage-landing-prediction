{
 "cells": [
  {
   "cell_type": "code",
   "execution_count": 84,
   "metadata": {},
   "outputs": [],
   "source": [
    "import pandas as pd\n",
    "import numpy as np"
   ]
  },
  {
   "cell_type": "code",
   "execution_count": 85,
   "metadata": {},
   "outputs": [
    {
     "name": "stdout",
     "output_type": "stream",
     "text": [
      "<class 'pandas.core.frame.DataFrame'>\n",
      "RangeIndex: 187 entries, 0 to 186\n",
      "Data columns (total 22 columns):\n",
      " #   Column           Non-Null Count  Dtype  \n",
      "---  ------           --------------  -----  \n",
      " 0   Unnamed: 0       187 non-null    int64  \n",
      " 1   date             187 non-null    object \n",
      " 2   flight no        187 non-null    int64  \n",
      " 3   booster version  187 non-null    object \n",
      " 4   payload mass     162 non-null    float64\n",
      " 5   orbit            186 non-null    object \n",
      " 6   launch site      187 non-null    object \n",
      " 7   landing type     158 non-null    object \n",
      " 8   outcome          156 non-null    object \n",
      " 9   flights          187 non-null    int64  \n",
      " 10  gridfins         187 non-null    bool   \n",
      " 11  reused           187 non-null    bool   \n",
      " 12  legs             187 non-null    bool   \n",
      " 13  landing pad      151 non-null    object \n",
      " 14  block            182 non-null    float64\n",
      " 15  reused count     187 non-null    int64  \n",
      " 16  serial           187 non-null    object \n",
      " 17  longitude        187 non-null    float64\n",
      " 18  latitude         187 non-null    float64\n",
      " 19  cost per launch  187 non-null    int64  \n",
      " 20  customers        187 non-null    object \n",
      " 21  manufacterers    187 non-null    object \n",
      "dtypes: bool(3), float64(4), int64(5), object(10)\n",
      "memory usage: 28.4+ KB\n"
     ]
    }
   ],
   "source": [
    "df = pd.read_csv(\"../api-data.csv\")\n",
    "df.info()"
   ]
  },
  {
   "cell_type": "code",
   "execution_count": 86,
   "metadata": {},
   "outputs": [],
   "source": [
    "df.drop(['Unnamed: 0'], inplace=True, axis=1)"
   ]
  },
  {
   "cell_type": "code",
   "execution_count": 87,
   "metadata": {},
   "outputs": [],
   "source": [
    "df['date'] = pd.to_datetime(df[\"date\"]).dt.date\n"
   ]
  },
  {
   "cell_type": "code",
   "execution_count": 88,
   "metadata": {},
   "outputs": [
    {
     "data": {
      "text/html": [
       "<div>\n",
       "<style scoped>\n",
       "    .dataframe tbody tr th:only-of-type {\n",
       "        vertical-align: middle;\n",
       "    }\n",
       "\n",
       "    .dataframe tbody tr th {\n",
       "        vertical-align: top;\n",
       "    }\n",
       "\n",
       "    .dataframe thead th {\n",
       "        text-align: right;\n",
       "    }\n",
       "</style>\n",
       "<table border=\"1\" class=\"dataframe\">\n",
       "  <thead>\n",
       "    <tr style=\"text-align: right;\">\n",
       "      <th></th>\n",
       "      <th>count</th>\n",
       "      <th>mean</th>\n",
       "      <th>std</th>\n",
       "      <th>min</th>\n",
       "      <th>25%</th>\n",
       "      <th>50%</th>\n",
       "      <th>75%</th>\n",
       "      <th>max</th>\n",
       "    </tr>\n",
       "    <tr>\n",
       "      <th>booster version</th>\n",
       "      <th></th>\n",
       "      <th></th>\n",
       "      <th></th>\n",
       "      <th></th>\n",
       "      <th></th>\n",
       "      <th></th>\n",
       "      <th></th>\n",
       "      <th></th>\n",
       "    </tr>\n",
       "  </thead>\n",
       "  <tbody>\n",
       "    <tr>\n",
       "      <th>Falcon 1</th>\n",
       "      <td>3.0</td>\n",
       "      <td>128.333333</td>\n",
       "      <td>95.437589</td>\n",
       "      <td>20.0</td>\n",
       "      <td>92.5</td>\n",
       "      <td>165.0</td>\n",
       "      <td>182.5</td>\n",
       "      <td>200.0</td>\n",
       "    </tr>\n",
       "    <tr>\n",
       "      <th>Falcon 9</th>\n",
       "      <td>156.0</td>\n",
       "      <td>8117.574038</td>\n",
       "      <td>5545.558195</td>\n",
       "      <td>330.0</td>\n",
       "      <td>2956.5</td>\n",
       "      <td>6630.5</td>\n",
       "      <td>13260.0</td>\n",
       "      <td>15600.0</td>\n",
       "    </tr>\n",
       "    <tr>\n",
       "      <th>Falcon Heavy</th>\n",
       "      <td>3.0</td>\n",
       "      <td>2650.000000</td>\n",
       "      <td>2925.320495</td>\n",
       "      <td>600.0</td>\n",
       "      <td>975.0</td>\n",
       "      <td>1350.0</td>\n",
       "      <td>3675.0</td>\n",
       "      <td>6000.0</td>\n",
       "    </tr>\n",
       "  </tbody>\n",
       "</table>\n",
       "</div>"
      ],
      "text/plain": [
       "                 count         mean          std    min     25%     50%  \\\n",
       "booster version                                                           \n",
       "Falcon 1           3.0   128.333333    95.437589   20.0    92.5   165.0   \n",
       "Falcon 9         156.0  8117.574038  5545.558195  330.0  2956.5  6630.5   \n",
       "Falcon Heavy       3.0  2650.000000  2925.320495  600.0   975.0  1350.0   \n",
       "\n",
       "                     75%      max  \n",
       "booster version                    \n",
       "Falcon 1           182.5    200.0  \n",
       "Falcon 9         13260.0  15600.0  \n",
       "Falcon Heavy      3675.0   6000.0  "
      ]
     },
     "execution_count": 88,
     "metadata": {},
     "output_type": "execute_result"
    }
   ],
   "source": [
    "mass_bv = df.groupby(\"booster version\").describe()[\"payload mass\"]\n",
    "mass_bv"
   ]
  },
  {
   "cell_type": "code",
   "execution_count": 91,
   "metadata": {},
   "outputs": [
    {
     "name": "stderr",
     "output_type": "stream",
     "text": [
      "/var/folders/14/74g9mr9x7c7cx2_vfwl7bd400000gn/T/ipykernel_86439/2284129788.py:2: SettingWithCopyWarning: \n",
      "A value is trying to be set on a copy of a slice from a DataFrame\n",
      "\n",
      "See the caveats in the documentation: https://pandas.pydata.org/pandas-docs/stable/user_guide/indexing.html#returning-a-view-versus-a-copy\n",
      "  df['payload mass'][1] = mass_bv[\"mean\"][\"Falcon 1\"]\n",
      "/var/folders/14/74g9mr9x7c7cx2_vfwl7bd400000gn/T/ipykernel_86439/2284129788.py:3: SettingWithCopyWarning: \n",
      "A value is trying to be set on a copy of a slice from a DataFrame\n",
      "\n",
      "See the caveats in the documentation: https://pandas.pydata.org/pandas-docs/stable/user_guide/indexing.html#returning-a-view-versus-a-copy\n",
      "  df['payload mass'][2] = mass_bv[\"mean\"][\"Falcon 1\"]\n"
     ]
    }
   ],
   "source": [
    "df.loc[df['booster version'] == 'Falcon 1', ['payload mass']]\n",
    "df['payload mass'][1] = mass_bv[\"mean\"][\"Falcon 1\"]\n",
    "df['payload mass'][2] = mass_bv[\"mean\"][\"Falcon 1\"]"
   ]
  },
  {
   "cell_type": "code",
   "execution_count": 97,
   "metadata": {},
   "outputs": [],
   "source": [
    "df['payload mass'].replace(np.nan, mass_bv[\"mean\"][\"Falcon 9\"], inplace = True)"
   ]
  },
  {
   "cell_type": "code",
   "execution_count": 105,
   "metadata": {},
   "outputs": [],
   "source": [
    "df['orbit'].replace(np.nan, \"LEO\", inplace=True)"
   ]
  },
  {
   "cell_type": "code",
   "execution_count": 115,
   "metadata": {},
   "outputs": [],
   "source": [
    "df['outcome'].replace(np.nan, False, inplace=True)"
   ]
  },
  {
   "cell_type": "code",
   "execution_count": 118,
   "metadata": {},
   "outputs": [
    {
     "data": {
      "text/plain": [
       "5e9e3032383ecb6bb234e7ca    64\n",
       "5e9e3033383ecbb9e534e7cc    40\n",
       "5e9e3033383ecb075134e7cd    21\n",
       "5e9e3032383ecb267a34e7c7    18\n",
       "5e9e3032383ecb554034e7c9     6\n",
       "5e9e3032383ecb761634e7cb     2\n",
       "Name: landing pad, dtype: int64"
      ]
     },
     "execution_count": 118,
     "metadata": {},
     "output_type": "execute_result"
    }
   ],
   "source": [
    "df['landing pad'].value_counts()"
   ]
  },
  {
   "cell_type": "code",
   "execution_count": 122,
   "metadata": {},
   "outputs": [],
   "source": [
    "df['landing pad'].replace(np.nan, 'no data', inplace=True)"
   ]
  },
  {
   "cell_type": "code",
   "execution_count": 124,
   "metadata": {},
   "outputs": [],
   "source": [
    "df['landing type'].replace(np.nan, 'no data', inplace=True)"
   ]
  },
  {
   "cell_type": "code",
   "execution_count": 132,
   "metadata": {},
   "outputs": [],
   "source": [
    "# remove falcon 1 and falcon heavy\n",
    "df = df[df['booster version'] == 'Falcon 9']"
   ]
  },
  {
   "cell_type": "code",
   "execution_count": 133,
   "metadata": {},
   "outputs": [
    {
     "name": "stdout",
     "output_type": "stream",
     "text": [
      "<class 'pandas.core.frame.DataFrame'>\n",
      "Int64Index: 179 entries, 5 to 186\n",
      "Data columns (total 21 columns):\n",
      " #   Column           Non-Null Count  Dtype  \n",
      "---  ------           --------------  -----  \n",
      " 0   date             179 non-null    object \n",
      " 1   flight no        179 non-null    int64  \n",
      " 2   booster version  179 non-null    object \n",
      " 3   payload mass     179 non-null    float64\n",
      " 4   orbit            179 non-null    object \n",
      " 5   launch site      179 non-null    object \n",
      " 6   landing type     179 non-null    object \n",
      " 7   outcome          179 non-null    bool   \n",
      " 8   flights          179 non-null    int64  \n",
      " 9   gridfins         179 non-null    bool   \n",
      " 10  reused           179 non-null    bool   \n",
      " 11  legs             179 non-null    bool   \n",
      " 12  landing pad      179 non-null    object \n",
      " 13  block            179 non-null    float64\n",
      " 14  reused count     179 non-null    int64  \n",
      " 15  serial           179 non-null    object \n",
      " 16  longitude        179 non-null    float64\n",
      " 17  latitude         179 non-null    float64\n",
      " 18  cost per launch  179 non-null    int64  \n",
      " 19  customers        179 non-null    object \n",
      " 20  manufacterers    179 non-null    object \n",
      "dtypes: bool(4), float64(4), int64(4), object(9)\n",
      "memory usage: 25.9+ KB\n"
     ]
    }
   ],
   "source": [
    "df.info()"
   ]
  },
  {
   "cell_type": "code",
   "execution_count": null,
   "metadata": {},
   "outputs": [],
   "source": []
  }
 ],
 "metadata": {
  "kernelspec": {
   "display_name": "Python 3.9.13 64-bit",
   "language": "python",
   "name": "python3"
  },
  "language_info": {
   "codemirror_mode": {
    "name": "ipython",
    "version": 3
   },
   "file_extension": ".py",
   "mimetype": "text/x-python",
   "name": "python",
   "nbconvert_exporter": "python",
   "pygments_lexer": "ipython3",
   "version": "3.9.13"
  },
  "orig_nbformat": 4,
  "vscode": {
   "interpreter": {
    "hash": "aee8b7b246df8f9039afb4144a1f6fd8d2ca17a180786b69acc140d282b71a49"
   }
  }
 },
 "nbformat": 4,
 "nbformat_minor": 2
}
